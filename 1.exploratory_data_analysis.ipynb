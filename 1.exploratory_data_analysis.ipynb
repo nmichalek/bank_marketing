{
 "cells": [
  {
   "cell_type": "markdown",
   "metadata": {},
   "source": [
    "# Exploratory data analysis\n",
    "In the following notebooks, I will make exploratory data analysis of the bank marketing data to understand the dataset and analyse how to prepare it for classificaiton. The data is related with direct marketing campaigns of a Portuguese banking institution. The marketing campaigns were based on phone calls. Often, more than one contact to the same client was required, in order to access if the product (bank term deposit) would be ('yes') or not ('no') subscribed.\n",
    "The classification goal is to predict if the client will subscrive (yes/no) a term deposit (variable y)\\\n",
    "Dataset is available at: https://data.world/data-society/bank-marketing-data"
   ]
  },
  {
   "cell_type": "markdown",
   "metadata": {},
   "source": [
    "## Data preparation"
   ]
  },
  {
   "cell_type": "code",
   "execution_count": 2,
   "metadata": {},
   "outputs": [
    {
     "name": "stderr",
     "output_type": "stream",
     "text": [
      "c:\\Users\\a759429\\Anaconda3\\lib\\site-packages\\pandas\\core\\computation\\expressions.py:20: UserWarning: Pandas requires version '2.7.3' or newer of 'numexpr' (version '2.7.1' currently installed).\n",
      "  from pandas.core.computation.check import NUMEXPR_INSTALLED\n"
     ]
    }
   ],
   "source": [
    "# Import packages]\n",
    "import data_describe as dd\n",
    "import numpy as np\n",
    "import pandas as pd\n",
    "import matplotlib.pyplot as plt\n",
    "%matplotlib inline\n",
    "import seaborn as sns\n",
    "import data_describe as dd\n",
    "import warnings\n",
    "warnings.filterwarnings(\"ignore\")"
   ]
  },
  {
   "cell_type": "code",
   "execution_count": 3,
   "metadata": {},
   "outputs": [],
   "source": [
    "# Settings\n",
    "pd.set_option('display.max_columns', 50)\n",
    "pd.set_option('display.max_rows', 200)"
   ]
  },
  {
   "cell_type": "code",
   "execution_count": 4,
   "metadata": {},
   "outputs": [],
   "source": [
    "# Import data\n",
    "df = pd.read_csv(\"bank-additional-full.csv\", sep=\";\")"
   ]
  },
  {
   "cell_type": "markdown",
   "metadata": {},
   "source": [
    "## Data exploration\n",
    "I will analyse the following:\n",
    "1. General information: shape, missing values, duplciates, variables types\n",
    "2. Target variable\n",
    "3. Categorical variables analysis\n",
    "4. Numerical variables analysis\n",
    "5. Data correlation"
   ]
  },
  {
   "cell_type": "markdown",
   "metadata": {},
   "source": [
    "### 1. General information"
   ]
  },
  {
   "cell_type": "code",
   "execution_count": 5,
   "metadata": {},
   "outputs": [
    {
     "data": {
      "text/html": [
       "<div>\n",
       "<style scoped>\n",
       "    .dataframe tbody tr th:only-of-type {\n",
       "        vertical-align: middle;\n",
       "    }\n",
       "\n",
       "    .dataframe tbody tr th {\n",
       "        vertical-align: top;\n",
       "    }\n",
       "\n",
       "    .dataframe thead th {\n",
       "        text-align: right;\n",
       "    }\n",
       "</style>\n",
       "<table border=\"1\" class=\"dataframe\">\n",
       "  <thead>\n",
       "    <tr style=\"text-align: right;\">\n",
       "      <th></th>\n",
       "      <th>age</th>\n",
       "      <th>job</th>\n",
       "      <th>marital</th>\n",
       "      <th>education</th>\n",
       "      <th>default</th>\n",
       "      <th>housing</th>\n",
       "      <th>loan</th>\n",
       "      <th>contact</th>\n",
       "      <th>month</th>\n",
       "      <th>day_of_week</th>\n",
       "      <th>duration</th>\n",
       "      <th>campaign</th>\n",
       "      <th>pdays</th>\n",
       "      <th>previous</th>\n",
       "      <th>poutcome</th>\n",
       "      <th>emp.var.rate</th>\n",
       "      <th>cons.price.idx</th>\n",
       "      <th>cons.conf.idx</th>\n",
       "      <th>euribor3m</th>\n",
       "      <th>nr.employed</th>\n",
       "      <th>y</th>\n",
       "    </tr>\n",
       "  </thead>\n",
       "  <tbody>\n",
       "    <tr>\n",
       "      <th>22116</th>\n",
       "      <td>36</td>\n",
       "      <td>technician</td>\n",
       "      <td>single</td>\n",
       "      <td>high.school</td>\n",
       "      <td>no</td>\n",
       "      <td>no</td>\n",
       "      <td>no</td>\n",
       "      <td>cellular</td>\n",
       "      <td>aug</td>\n",
       "      <td>thu</td>\n",
       "      <td>444</td>\n",
       "      <td>7</td>\n",
       "      <td>999</td>\n",
       "      <td>0</td>\n",
       "      <td>nonexistent</td>\n",
       "      <td>1.4</td>\n",
       "      <td>93.444</td>\n",
       "      <td>-36.1</td>\n",
       "      <td>4.963</td>\n",
       "      <td>5228.1</td>\n",
       "      <td>no</td>\n",
       "    </tr>\n",
       "    <tr>\n",
       "      <th>6074</th>\n",
       "      <td>30</td>\n",
       "      <td>blue-collar</td>\n",
       "      <td>married</td>\n",
       "      <td>basic.9y</td>\n",
       "      <td>unknown</td>\n",
       "      <td>no</td>\n",
       "      <td>yes</td>\n",
       "      <td>telephone</td>\n",
       "      <td>may</td>\n",
       "      <td>tue</td>\n",
       "      <td>39</td>\n",
       "      <td>7</td>\n",
       "      <td>999</td>\n",
       "      <td>0</td>\n",
       "      <td>nonexistent</td>\n",
       "      <td>1.1</td>\n",
       "      <td>93.994</td>\n",
       "      <td>-36.4</td>\n",
       "      <td>4.857</td>\n",
       "      <td>5191.0</td>\n",
       "      <td>no</td>\n",
       "    </tr>\n",
       "    <tr>\n",
       "      <th>30224</th>\n",
       "      <td>20</td>\n",
       "      <td>student</td>\n",
       "      <td>single</td>\n",
       "      <td>high.school</td>\n",
       "      <td>no</td>\n",
       "      <td>yes</td>\n",
       "      <td>no</td>\n",
       "      <td>cellular</td>\n",
       "      <td>apr</td>\n",
       "      <td>thu</td>\n",
       "      <td>195</td>\n",
       "      <td>2</td>\n",
       "      <td>999</td>\n",
       "      <td>0</td>\n",
       "      <td>nonexistent</td>\n",
       "      <td>-1.8</td>\n",
       "      <td>93.075</td>\n",
       "      <td>-47.1</td>\n",
       "      <td>1.365</td>\n",
       "      <td>5099.1</td>\n",
       "      <td>no</td>\n",
       "    </tr>\n",
       "    <tr>\n",
       "      <th>323</th>\n",
       "      <td>40</td>\n",
       "      <td>services</td>\n",
       "      <td>married</td>\n",
       "      <td>basic.6y</td>\n",
       "      <td>unknown</td>\n",
       "      <td>no</td>\n",
       "      <td>no</td>\n",
       "      <td>telephone</td>\n",
       "      <td>may</td>\n",
       "      <td>mon</td>\n",
       "      <td>199</td>\n",
       "      <td>3</td>\n",
       "      <td>999</td>\n",
       "      <td>0</td>\n",
       "      <td>nonexistent</td>\n",
       "      <td>1.1</td>\n",
       "      <td>93.994</td>\n",
       "      <td>-36.4</td>\n",
       "      <td>4.857</td>\n",
       "      <td>5191.0</td>\n",
       "      <td>no</td>\n",
       "    </tr>\n",
       "    <tr>\n",
       "      <th>26220</th>\n",
       "      <td>52</td>\n",
       "      <td>management</td>\n",
       "      <td>married</td>\n",
       "      <td>university.degree</td>\n",
       "      <td>no</td>\n",
       "      <td>no</td>\n",
       "      <td>no</td>\n",
       "      <td>telephone</td>\n",
       "      <td>nov</td>\n",
       "      <td>thu</td>\n",
       "      <td>21</td>\n",
       "      <td>1</td>\n",
       "      <td>999</td>\n",
       "      <td>0</td>\n",
       "      <td>nonexistent</td>\n",
       "      <td>-0.1</td>\n",
       "      <td>93.200</td>\n",
       "      <td>-42.0</td>\n",
       "      <td>4.076</td>\n",
       "      <td>5195.8</td>\n",
       "      <td>no</td>\n",
       "    </tr>\n",
       "  </tbody>\n",
       "</table>\n",
       "</div>"
      ],
      "text/plain": [
       "       age          job  marital          education  default housing loan  \\\n",
       "22116   36   technician   single        high.school       no      no   no   \n",
       "6074    30  blue-collar  married           basic.9y  unknown      no  yes   \n",
       "30224   20      student   single        high.school       no     yes   no   \n",
       "323     40     services  married           basic.6y  unknown      no   no   \n",
       "26220   52   management  married  university.degree       no      no   no   \n",
       "\n",
       "         contact month day_of_week  duration  campaign  pdays  previous  \\\n",
       "22116   cellular   aug         thu       444         7    999         0   \n",
       "6074   telephone   may         tue        39         7    999         0   \n",
       "30224   cellular   apr         thu       195         2    999         0   \n",
       "323    telephone   may         mon       199         3    999         0   \n",
       "26220  telephone   nov         thu        21         1    999         0   \n",
       "\n",
       "          poutcome  emp.var.rate  cons.price.idx  cons.conf.idx  euribor3m  \\\n",
       "22116  nonexistent           1.4          93.444          -36.1      4.963   \n",
       "6074   nonexistent           1.1          93.994          -36.4      4.857   \n",
       "30224  nonexistent          -1.8          93.075          -47.1      1.365   \n",
       "323    nonexistent           1.1          93.994          -36.4      4.857   \n",
       "26220  nonexistent          -0.1          93.200          -42.0      4.076   \n",
       "\n",
       "       nr.employed   y  \n",
       "22116       5228.1  no  \n",
       "6074        5191.0  no  \n",
       "30224       5099.1  no  \n",
       "323         5191.0  no  \n",
       "26220       5195.8  no  "
      ]
     },
     "execution_count": 5,
     "metadata": {},
     "output_type": "execute_result"
    }
   ],
   "source": [
    "# View data sample\n",
    "df.sample(5)"
   ]
  },
  {
   "cell_type": "code",
   "execution_count": 6,
   "metadata": {},
   "outputs": [
    {
     "data": {
      "text/plain": [
       "(41188, 21)"
      ]
     },
     "execution_count": 6,
     "metadata": {},
     "output_type": "execute_result"
    }
   ],
   "source": [
    "# Check data shape\n",
    "df.shape"
   ]
  },
  {
   "cell_type": "code",
   "execution_count": 7,
   "metadata": {},
   "outputs": [
    {
     "data": {
      "text/html": [
       "<div>\n",
       "<style scoped>\n",
       "    .dataframe tbody tr th:only-of-type {\n",
       "        vertical-align: middle;\n",
       "    }\n",
       "\n",
       "    .dataframe tbody tr th {\n",
       "        vertical-align: top;\n",
       "    }\n",
       "\n",
       "    .dataframe thead th {\n",
       "        text-align: right;\n",
       "    }\n",
       "</style>\n",
       "<table border=\"1\" class=\"dataframe\">\n",
       "  <thead>\n",
       "    <tr style=\"text-align: right;\">\n",
       "      <th></th>\n",
       "      <th>age</th>\n",
       "      <th>job</th>\n",
       "      <th>marital</th>\n",
       "      <th>education</th>\n",
       "      <th>default</th>\n",
       "      <th>housing</th>\n",
       "      <th>loan</th>\n",
       "      <th>contact</th>\n",
       "      <th>month</th>\n",
       "      <th>day_of_week</th>\n",
       "      <th>duration</th>\n",
       "      <th>campaign</th>\n",
       "      <th>pdays</th>\n",
       "      <th>previous</th>\n",
       "      <th>poutcome</th>\n",
       "      <th>emp.var.rate</th>\n",
       "      <th>cons.price.idx</th>\n",
       "      <th>cons.conf.idx</th>\n",
       "      <th>euribor3m</th>\n",
       "      <th>nr.employed</th>\n",
       "      <th>y</th>\n",
       "    </tr>\n",
       "  </thead>\n",
       "  <tbody>\n",
       "    <tr>\n",
       "      <th>Data Type</th>\n",
       "      <td>int64</td>\n",
       "      <td>object</td>\n",
       "      <td>object</td>\n",
       "      <td>object</td>\n",
       "      <td>object</td>\n",
       "      <td>object</td>\n",
       "      <td>object</td>\n",
       "      <td>object</td>\n",
       "      <td>object</td>\n",
       "      <td>object</td>\n",
       "      <td>int64</td>\n",
       "      <td>int64</td>\n",
       "      <td>int64</td>\n",
       "      <td>int64</td>\n",
       "      <td>object</td>\n",
       "      <td>float64</td>\n",
       "      <td>float64</td>\n",
       "      <td>float64</td>\n",
       "      <td>float64</td>\n",
       "      <td>float64</td>\n",
       "      <td>object</td>\n",
       "    </tr>\n",
       "    <tr>\n",
       "      <th>Mean</th>\n",
       "      <td>40.02406</td>\n",
       "      <td></td>\n",
       "      <td></td>\n",
       "      <td></td>\n",
       "      <td></td>\n",
       "      <td></td>\n",
       "      <td></td>\n",
       "      <td></td>\n",
       "      <td></td>\n",
       "      <td></td>\n",
       "      <td>258.28501</td>\n",
       "      <td>2.567593</td>\n",
       "      <td>962.475454</td>\n",
       "      <td>0.172963</td>\n",
       "      <td></td>\n",
       "      <td>0.081886</td>\n",
       "      <td>93.575664</td>\n",
       "      <td>-40.5026</td>\n",
       "      <td>3.621291</td>\n",
       "      <td>5167.035911</td>\n",
       "      <td></td>\n",
       "    </tr>\n",
       "    <tr>\n",
       "      <th>Standard Deviation</th>\n",
       "      <td>10.42125</td>\n",
       "      <td></td>\n",
       "      <td></td>\n",
       "      <td></td>\n",
       "      <td></td>\n",
       "      <td></td>\n",
       "      <td></td>\n",
       "      <td></td>\n",
       "      <td></td>\n",
       "      <td></td>\n",
       "      <td>259.279249</td>\n",
       "      <td>2.770014</td>\n",
       "      <td>186.910907</td>\n",
       "      <td>0.494901</td>\n",
       "      <td></td>\n",
       "      <td>1.57096</td>\n",
       "      <td>0.57884</td>\n",
       "      <td>4.628198</td>\n",
       "      <td>1.734447</td>\n",
       "      <td>72.251528</td>\n",
       "      <td></td>\n",
       "    </tr>\n",
       "    <tr>\n",
       "      <th>Median</th>\n",
       "      <td>38.0</td>\n",
       "      <td></td>\n",
       "      <td></td>\n",
       "      <td></td>\n",
       "      <td></td>\n",
       "      <td></td>\n",
       "      <td></td>\n",
       "      <td></td>\n",
       "      <td></td>\n",
       "      <td></td>\n",
       "      <td>180.0</td>\n",
       "      <td>2.0</td>\n",
       "      <td>999.0</td>\n",
       "      <td>0.0</td>\n",
       "      <td></td>\n",
       "      <td>1.1</td>\n",
       "      <td>93.749</td>\n",
       "      <td>-41.8</td>\n",
       "      <td>4.857</td>\n",
       "      <td>5191.0</td>\n",
       "      <td></td>\n",
       "    </tr>\n",
       "    <tr>\n",
       "      <th>Min</th>\n",
       "      <td>17</td>\n",
       "      <td></td>\n",
       "      <td></td>\n",
       "      <td></td>\n",
       "      <td></td>\n",
       "      <td></td>\n",
       "      <td></td>\n",
       "      <td></td>\n",
       "      <td></td>\n",
       "      <td></td>\n",
       "      <td>0</td>\n",
       "      <td>1</td>\n",
       "      <td>0</td>\n",
       "      <td>0</td>\n",
       "      <td></td>\n",
       "      <td>-3.4</td>\n",
       "      <td>92.201</td>\n",
       "      <td>-50.8</td>\n",
       "      <td>0.634</td>\n",
       "      <td>4963.6</td>\n",
       "      <td></td>\n",
       "    </tr>\n",
       "    <tr>\n",
       "      <th>Max</th>\n",
       "      <td>98</td>\n",
       "      <td></td>\n",
       "      <td></td>\n",
       "      <td></td>\n",
       "      <td></td>\n",
       "      <td></td>\n",
       "      <td></td>\n",
       "      <td></td>\n",
       "      <td></td>\n",
       "      <td></td>\n",
       "      <td>4918</td>\n",
       "      <td>56</td>\n",
       "      <td>999</td>\n",
       "      <td>7</td>\n",
       "      <td></td>\n",
       "      <td>1.4</td>\n",
       "      <td>94.767</td>\n",
       "      <td>-26.9</td>\n",
       "      <td>5.045</td>\n",
       "      <td>5228.1</td>\n",
       "      <td></td>\n",
       "    </tr>\n",
       "    <tr>\n",
       "      <th># Zeros</th>\n",
       "      <td>0</td>\n",
       "      <td></td>\n",
       "      <td></td>\n",
       "      <td></td>\n",
       "      <td></td>\n",
       "      <td></td>\n",
       "      <td></td>\n",
       "      <td></td>\n",
       "      <td></td>\n",
       "      <td></td>\n",
       "      <td>4</td>\n",
       "      <td>0</td>\n",
       "      <td>15</td>\n",
       "      <td>35563</td>\n",
       "      <td></td>\n",
       "      <td>0</td>\n",
       "      <td>0</td>\n",
       "      <td>0</td>\n",
       "      <td>0</td>\n",
       "      <td>0</td>\n",
       "      <td></td>\n",
       "    </tr>\n",
       "    <tr>\n",
       "      <th># Nulls</th>\n",
       "      <td>0</td>\n",
       "      <td>0</td>\n",
       "      <td>0</td>\n",
       "      <td>0</td>\n",
       "      <td>0</td>\n",
       "      <td>0</td>\n",
       "      <td>0</td>\n",
       "      <td>0</td>\n",
       "      <td>0</td>\n",
       "      <td>0</td>\n",
       "      <td>0</td>\n",
       "      <td>0</td>\n",
       "      <td>0</td>\n",
       "      <td>0</td>\n",
       "      <td>0</td>\n",
       "      <td>0</td>\n",
       "      <td>0</td>\n",
       "      <td>0</td>\n",
       "      <td>0</td>\n",
       "      <td>0</td>\n",
       "      <td>0</td>\n",
       "    </tr>\n",
       "    <tr>\n",
       "      <th>% Most Frequent Value</th>\n",
       "      <td>4.73</td>\n",
       "      <td>25.3</td>\n",
       "      <td>60.52</td>\n",
       "      <td>29.54</td>\n",
       "      <td>79.12</td>\n",
       "      <td>52.38</td>\n",
       "      <td>82.43</td>\n",
       "      <td>63.47</td>\n",
       "      <td>33.43</td>\n",
       "      <td>20.94</td>\n",
       "      <td>0.41</td>\n",
       "      <td>42.83</td>\n",
       "      <td>96.32</td>\n",
       "      <td>86.34</td>\n",
       "      <td>86.34</td>\n",
       "      <td>39.41</td>\n",
       "      <td>18.85</td>\n",
       "      <td>18.85</td>\n",
       "      <td>6.96</td>\n",
       "      <td>39.41</td>\n",
       "      <td>88.73</td>\n",
       "    </tr>\n",
       "  </tbody>\n",
       "</table>\n",
       "</div>"
      ],
      "text/plain": [
       "                            age     job marital education default housing  \\\n",
       "Data Type                 int64  object  object    object  object  object   \n",
       "Mean                   40.02406                                             \n",
       "Standard Deviation     10.42125                                             \n",
       "Median                     38.0                                             \n",
       "Min                          17                                             \n",
       "Max                          98                                             \n",
       "# Zeros                       0                                             \n",
       "# Nulls                       0       0       0         0       0       0   \n",
       "% Most Frequent Value      4.73    25.3   60.52     29.54   79.12   52.38   \n",
       "\n",
       "                         loan contact   month day_of_week    duration  \\\n",
       "Data Type              object  object  object      object       int64   \n",
       "Mean                                                        258.28501   \n",
       "Standard Deviation                                         259.279249   \n",
       "Median                                                          180.0   \n",
       "Min                                                                 0   \n",
       "Max                                                              4918   \n",
       "# Zeros                                                             4   \n",
       "# Nulls                     0       0       0           0           0   \n",
       "% Most Frequent Value   82.43   63.47   33.43       20.94        0.41   \n",
       "\n",
       "                       campaign       pdays  previous poutcome emp.var.rate  \\\n",
       "Data Type                 int64       int64     int64   object      float64   \n",
       "Mean                   2.567593  962.475454  0.172963              0.081886   \n",
       "Standard Deviation     2.770014  186.910907  0.494901               1.57096   \n",
       "Median                      2.0       999.0       0.0                   1.1   \n",
       "Min                           1           0         0                  -3.4   \n",
       "Max                          56         999         7                   1.4   \n",
       "# Zeros                       0          15     35563                     0   \n",
       "# Nulls                       0           0         0        0            0   \n",
       "% Most Frequent Value     42.83       96.32     86.34    86.34        39.41   \n",
       "\n",
       "                      cons.price.idx cons.conf.idx euribor3m  nr.employed  \\\n",
       "Data Type                    float64       float64   float64      float64   \n",
       "Mean                       93.575664      -40.5026  3.621291  5167.035911   \n",
       "Standard Deviation           0.57884      4.628198  1.734447    72.251528   \n",
       "Median                        93.749         -41.8     4.857       5191.0   \n",
       "Min                           92.201         -50.8     0.634       4963.6   \n",
       "Max                           94.767         -26.9     5.045       5228.1   \n",
       "# Zeros                            0             0         0            0   \n",
       "# Nulls                            0             0         0            0   \n",
       "% Most Frequent Value          18.85         18.85      6.96        39.41   \n",
       "\n",
       "                            y  \n",
       "Data Type              object  \n",
       "Mean                           \n",
       "Standard Deviation             \n",
       "Median                         \n",
       "Min                            \n",
       "Max                            \n",
       "# Zeros                        \n",
       "# Nulls                     0  \n",
       "% Most Frequent Value   88.73  "
      ]
     },
     "metadata": {},
     "output_type": "display_data"
    },
    {
     "data": {
      "text/plain": [
       "data-describe Summary Widget"
      ]
     },
     "execution_count": 7,
     "metadata": {},
     "output_type": "execute_result"
    }
   ],
   "source": [
    "# View data summary using data describe package\n",
    "dd.data_summary(df)"
   ]
  },
  {
   "cell_type": "code",
   "execution_count": 8,
   "metadata": {},
   "outputs": [
    {
     "data": {
      "text/plain": [
       "12"
      ]
     },
     "execution_count": 8,
     "metadata": {},
     "output_type": "execute_result"
    }
   ],
   "source": [
    "# Duplicates check\n",
    "df.duplicated().sum()"
   ]
  },
  {
   "cell_type": "code",
   "execution_count": 9,
   "metadata": {},
   "outputs": [
    {
     "data": {
      "text/html": [
       "<div>\n",
       "<style scoped>\n",
       "    .dataframe tbody tr th:only-of-type {\n",
       "        vertical-align: middle;\n",
       "    }\n",
       "\n",
       "    .dataframe tbody tr th {\n",
       "        vertical-align: top;\n",
       "    }\n",
       "\n",
       "    .dataframe thead th {\n",
       "        text-align: right;\n",
       "    }\n",
       "</style>\n",
       "<table border=\"1\" class=\"dataframe\">\n",
       "  <thead>\n",
       "    <tr style=\"text-align: right;\">\n",
       "      <th></th>\n",
       "      <th>age</th>\n",
       "      <th>job</th>\n",
       "      <th>marital</th>\n",
       "      <th>education</th>\n",
       "      <th>default</th>\n",
       "      <th>housing</th>\n",
       "      <th>loan</th>\n",
       "      <th>contact</th>\n",
       "      <th>month</th>\n",
       "      <th>day_of_week</th>\n",
       "      <th>duration</th>\n",
       "      <th>campaign</th>\n",
       "      <th>pdays</th>\n",
       "      <th>previous</th>\n",
       "      <th>poutcome</th>\n",
       "      <th>emp.var.rate</th>\n",
       "      <th>cons.price.idx</th>\n",
       "      <th>cons.conf.idx</th>\n",
       "      <th>euribor3m</th>\n",
       "      <th>nr.employed</th>\n",
       "      <th>y</th>\n",
       "    </tr>\n",
       "  </thead>\n",
       "  <tbody>\n",
       "    <tr>\n",
       "      <th>1266</th>\n",
       "      <td>39</td>\n",
       "      <td>blue-collar</td>\n",
       "      <td>married</td>\n",
       "      <td>basic.6y</td>\n",
       "      <td>no</td>\n",
       "      <td>no</td>\n",
       "      <td>no</td>\n",
       "      <td>telephone</td>\n",
       "      <td>may</td>\n",
       "      <td>thu</td>\n",
       "      <td>124</td>\n",
       "      <td>1</td>\n",
       "      <td>999</td>\n",
       "      <td>0</td>\n",
       "      <td>nonexistent</td>\n",
       "      <td>1.1</td>\n",
       "      <td>93.994</td>\n",
       "      <td>-36.4</td>\n",
       "      <td>4.855</td>\n",
       "      <td>5191.0</td>\n",
       "      <td>no</td>\n",
       "    </tr>\n",
       "    <tr>\n",
       "      <th>12261</th>\n",
       "      <td>36</td>\n",
       "      <td>retired</td>\n",
       "      <td>married</td>\n",
       "      <td>unknown</td>\n",
       "      <td>no</td>\n",
       "      <td>no</td>\n",
       "      <td>no</td>\n",
       "      <td>telephone</td>\n",
       "      <td>jul</td>\n",
       "      <td>thu</td>\n",
       "      <td>88</td>\n",
       "      <td>1</td>\n",
       "      <td>999</td>\n",
       "      <td>0</td>\n",
       "      <td>nonexistent</td>\n",
       "      <td>1.4</td>\n",
       "      <td>93.918</td>\n",
       "      <td>-42.7</td>\n",
       "      <td>4.966</td>\n",
       "      <td>5228.1</td>\n",
       "      <td>no</td>\n",
       "    </tr>\n",
       "    <tr>\n",
       "      <th>14234</th>\n",
       "      <td>27</td>\n",
       "      <td>technician</td>\n",
       "      <td>single</td>\n",
       "      <td>professional.course</td>\n",
       "      <td>no</td>\n",
       "      <td>no</td>\n",
       "      <td>no</td>\n",
       "      <td>cellular</td>\n",
       "      <td>jul</td>\n",
       "      <td>mon</td>\n",
       "      <td>331</td>\n",
       "      <td>2</td>\n",
       "      <td>999</td>\n",
       "      <td>0</td>\n",
       "      <td>nonexistent</td>\n",
       "      <td>1.4</td>\n",
       "      <td>93.918</td>\n",
       "      <td>-42.7</td>\n",
       "      <td>4.962</td>\n",
       "      <td>5228.1</td>\n",
       "      <td>no</td>\n",
       "    </tr>\n",
       "    <tr>\n",
       "      <th>16956</th>\n",
       "      <td>47</td>\n",
       "      <td>technician</td>\n",
       "      <td>divorced</td>\n",
       "      <td>high.school</td>\n",
       "      <td>no</td>\n",
       "      <td>yes</td>\n",
       "      <td>no</td>\n",
       "      <td>cellular</td>\n",
       "      <td>jul</td>\n",
       "      <td>thu</td>\n",
       "      <td>43</td>\n",
       "      <td>3</td>\n",
       "      <td>999</td>\n",
       "      <td>0</td>\n",
       "      <td>nonexistent</td>\n",
       "      <td>1.4</td>\n",
       "      <td>93.918</td>\n",
       "      <td>-42.7</td>\n",
       "      <td>4.962</td>\n",
       "      <td>5228.1</td>\n",
       "      <td>no</td>\n",
       "    </tr>\n",
       "    <tr>\n",
       "      <th>18465</th>\n",
       "      <td>32</td>\n",
       "      <td>technician</td>\n",
       "      <td>single</td>\n",
       "      <td>professional.course</td>\n",
       "      <td>no</td>\n",
       "      <td>yes</td>\n",
       "      <td>no</td>\n",
       "      <td>cellular</td>\n",
       "      <td>jul</td>\n",
       "      <td>thu</td>\n",
       "      <td>128</td>\n",
       "      <td>1</td>\n",
       "      <td>999</td>\n",
       "      <td>0</td>\n",
       "      <td>nonexistent</td>\n",
       "      <td>1.4</td>\n",
       "      <td>93.918</td>\n",
       "      <td>-42.7</td>\n",
       "      <td>4.968</td>\n",
       "      <td>5228.1</td>\n",
       "      <td>no</td>\n",
       "    </tr>\n",
       "    <tr>\n",
       "      <th>20216</th>\n",
       "      <td>55</td>\n",
       "      <td>services</td>\n",
       "      <td>married</td>\n",
       "      <td>high.school</td>\n",
       "      <td>unknown</td>\n",
       "      <td>no</td>\n",
       "      <td>no</td>\n",
       "      <td>cellular</td>\n",
       "      <td>aug</td>\n",
       "      <td>mon</td>\n",
       "      <td>33</td>\n",
       "      <td>1</td>\n",
       "      <td>999</td>\n",
       "      <td>0</td>\n",
       "      <td>nonexistent</td>\n",
       "      <td>1.4</td>\n",
       "      <td>93.444</td>\n",
       "      <td>-36.1</td>\n",
       "      <td>4.965</td>\n",
       "      <td>5228.1</td>\n",
       "      <td>no</td>\n",
       "    </tr>\n",
       "    <tr>\n",
       "      <th>20534</th>\n",
       "      <td>41</td>\n",
       "      <td>technician</td>\n",
       "      <td>married</td>\n",
       "      <td>professional.course</td>\n",
       "      <td>no</td>\n",
       "      <td>yes</td>\n",
       "      <td>no</td>\n",
       "      <td>cellular</td>\n",
       "      <td>aug</td>\n",
       "      <td>tue</td>\n",
       "      <td>127</td>\n",
       "      <td>1</td>\n",
       "      <td>999</td>\n",
       "      <td>0</td>\n",
       "      <td>nonexistent</td>\n",
       "      <td>1.4</td>\n",
       "      <td>93.444</td>\n",
       "      <td>-36.1</td>\n",
       "      <td>4.966</td>\n",
       "      <td>5228.1</td>\n",
       "      <td>no</td>\n",
       "    </tr>\n",
       "    <tr>\n",
       "      <th>25217</th>\n",
       "      <td>39</td>\n",
       "      <td>admin.</td>\n",
       "      <td>married</td>\n",
       "      <td>university.degree</td>\n",
       "      <td>no</td>\n",
       "      <td>no</td>\n",
       "      <td>no</td>\n",
       "      <td>cellular</td>\n",
       "      <td>nov</td>\n",
       "      <td>tue</td>\n",
       "      <td>123</td>\n",
       "      <td>2</td>\n",
       "      <td>999</td>\n",
       "      <td>0</td>\n",
       "      <td>nonexistent</td>\n",
       "      <td>-0.1</td>\n",
       "      <td>93.200</td>\n",
       "      <td>-42.0</td>\n",
       "      <td>4.153</td>\n",
       "      <td>5195.8</td>\n",
       "      <td>no</td>\n",
       "    </tr>\n",
       "    <tr>\n",
       "      <th>28477</th>\n",
       "      <td>24</td>\n",
       "      <td>services</td>\n",
       "      <td>single</td>\n",
       "      <td>high.school</td>\n",
       "      <td>no</td>\n",
       "      <td>yes</td>\n",
       "      <td>no</td>\n",
       "      <td>cellular</td>\n",
       "      <td>apr</td>\n",
       "      <td>tue</td>\n",
       "      <td>114</td>\n",
       "      <td>1</td>\n",
       "      <td>999</td>\n",
       "      <td>0</td>\n",
       "      <td>nonexistent</td>\n",
       "      <td>-1.8</td>\n",
       "      <td>93.075</td>\n",
       "      <td>-47.1</td>\n",
       "      <td>1.423</td>\n",
       "      <td>5099.1</td>\n",
       "      <td>no</td>\n",
       "    </tr>\n",
       "    <tr>\n",
       "      <th>32516</th>\n",
       "      <td>35</td>\n",
       "      <td>admin.</td>\n",
       "      <td>married</td>\n",
       "      <td>university.degree</td>\n",
       "      <td>no</td>\n",
       "      <td>yes</td>\n",
       "      <td>no</td>\n",
       "      <td>cellular</td>\n",
       "      <td>may</td>\n",
       "      <td>fri</td>\n",
       "      <td>348</td>\n",
       "      <td>4</td>\n",
       "      <td>999</td>\n",
       "      <td>0</td>\n",
       "      <td>nonexistent</td>\n",
       "      <td>-1.8</td>\n",
       "      <td>92.893</td>\n",
       "      <td>-46.2</td>\n",
       "      <td>1.313</td>\n",
       "      <td>5099.1</td>\n",
       "      <td>no</td>\n",
       "    </tr>\n",
       "    <tr>\n",
       "      <th>36951</th>\n",
       "      <td>45</td>\n",
       "      <td>admin.</td>\n",
       "      <td>married</td>\n",
       "      <td>university.degree</td>\n",
       "      <td>no</td>\n",
       "      <td>no</td>\n",
       "      <td>no</td>\n",
       "      <td>cellular</td>\n",
       "      <td>jul</td>\n",
       "      <td>thu</td>\n",
       "      <td>252</td>\n",
       "      <td>1</td>\n",
       "      <td>999</td>\n",
       "      <td>0</td>\n",
       "      <td>nonexistent</td>\n",
       "      <td>-2.9</td>\n",
       "      <td>92.469</td>\n",
       "      <td>-33.6</td>\n",
       "      <td>1.072</td>\n",
       "      <td>5076.2</td>\n",
       "      <td>yes</td>\n",
       "    </tr>\n",
       "    <tr>\n",
       "      <th>38281</th>\n",
       "      <td>71</td>\n",
       "      <td>retired</td>\n",
       "      <td>single</td>\n",
       "      <td>university.degree</td>\n",
       "      <td>no</td>\n",
       "      <td>no</td>\n",
       "      <td>no</td>\n",
       "      <td>telephone</td>\n",
       "      <td>oct</td>\n",
       "      <td>tue</td>\n",
       "      <td>120</td>\n",
       "      <td>1</td>\n",
       "      <td>999</td>\n",
       "      <td>0</td>\n",
       "      <td>nonexistent</td>\n",
       "      <td>-3.4</td>\n",
       "      <td>92.431</td>\n",
       "      <td>-26.9</td>\n",
       "      <td>0.742</td>\n",
       "      <td>5017.5</td>\n",
       "      <td>no</td>\n",
       "    </tr>\n",
       "  </tbody>\n",
       "</table>\n",
       "</div>"
      ],
      "text/plain": [
       "       age          job   marital            education  default housing loan  \\\n",
       "1266    39  blue-collar   married             basic.6y       no      no   no   \n",
       "12261   36      retired   married              unknown       no      no   no   \n",
       "14234   27   technician    single  professional.course       no      no   no   \n",
       "16956   47   technician  divorced          high.school       no     yes   no   \n",
       "18465   32   technician    single  professional.course       no     yes   no   \n",
       "20216   55     services   married          high.school  unknown      no   no   \n",
       "20534   41   technician   married  professional.course       no     yes   no   \n",
       "25217   39       admin.   married    university.degree       no      no   no   \n",
       "28477   24     services    single          high.school       no     yes   no   \n",
       "32516   35       admin.   married    university.degree       no     yes   no   \n",
       "36951   45       admin.   married    university.degree       no      no   no   \n",
       "38281   71      retired    single    university.degree       no      no   no   \n",
       "\n",
       "         contact month day_of_week  duration  campaign  pdays  previous  \\\n",
       "1266   telephone   may         thu       124         1    999         0   \n",
       "12261  telephone   jul         thu        88         1    999         0   \n",
       "14234   cellular   jul         mon       331         2    999         0   \n",
       "16956   cellular   jul         thu        43         3    999         0   \n",
       "18465   cellular   jul         thu       128         1    999         0   \n",
       "20216   cellular   aug         mon        33         1    999         0   \n",
       "20534   cellular   aug         tue       127         1    999         0   \n",
       "25217   cellular   nov         tue       123         2    999         0   \n",
       "28477   cellular   apr         tue       114         1    999         0   \n",
       "32516   cellular   may         fri       348         4    999         0   \n",
       "36951   cellular   jul         thu       252         1    999         0   \n",
       "38281  telephone   oct         tue       120         1    999         0   \n",
       "\n",
       "          poutcome  emp.var.rate  cons.price.idx  cons.conf.idx  euribor3m  \\\n",
       "1266   nonexistent           1.1          93.994          -36.4      4.855   \n",
       "12261  nonexistent           1.4          93.918          -42.7      4.966   \n",
       "14234  nonexistent           1.4          93.918          -42.7      4.962   \n",
       "16956  nonexistent           1.4          93.918          -42.7      4.962   \n",
       "18465  nonexistent           1.4          93.918          -42.7      4.968   \n",
       "20216  nonexistent           1.4          93.444          -36.1      4.965   \n",
       "20534  nonexistent           1.4          93.444          -36.1      4.966   \n",
       "25217  nonexistent          -0.1          93.200          -42.0      4.153   \n",
       "28477  nonexistent          -1.8          93.075          -47.1      1.423   \n",
       "32516  nonexistent          -1.8          92.893          -46.2      1.313   \n",
       "36951  nonexistent          -2.9          92.469          -33.6      1.072   \n",
       "38281  nonexistent          -3.4          92.431          -26.9      0.742   \n",
       "\n",
       "       nr.employed    y  \n",
       "1266        5191.0   no  \n",
       "12261       5228.1   no  \n",
       "14234       5228.1   no  \n",
       "16956       5228.1   no  \n",
       "18465       5228.1   no  \n",
       "20216       5228.1   no  \n",
       "20534       5228.1   no  \n",
       "25217       5195.8   no  \n",
       "28477       5099.1   no  \n",
       "32516       5099.1   no  \n",
       "36951       5076.2  yes  \n",
       "38281       5017.5   no  "
      ]
     },
     "execution_count": 9,
     "metadata": {},
     "output_type": "execute_result"
    }
   ],
   "source": [
    "# Duplicated rows\n",
    "df[df.duplicated()]"
   ]
  },
  {
   "cell_type": "markdown",
   "metadata": {},
   "source": [
    "#### Findings:\n",
    "* there are 21 variables, 41188 observations\n",
    "* there are no missing data in df\n",
    "* there are 12 rows duplicated (same values in all rows)\n",
    "* no logical data error realized at this stage- variables in logical rabges e.g age: 17-98\n",
    "* value 999 in column pdays (number of days that passed by after the client was last contacted from a previous campaign) means that client was not previously contacted (information from data documentation)\n",
    "* as per documentation \"duration\" variable should be excluded from model as the duration is not known before the call\n",
    "\n",
    "#### Variables types:\n",
    "\n",
    "* target variable: y(binary)\n",
    "* features:\n",
    "  * categorical:\n",
    "    * nominal: \"job\", \"marital\", \"contact\", \"poutcome\", \"default\", \"housing\", \"loan\"\n",
    "    * ordinal: \"education\", \"month\", \"day_of_week\"\n",
    "  *   numerical: \"age\", \"campaing\", \"pdays\", \"previous\", \"emp.var.rate\", \"cons.price.index\", \"cons.conf.idx\", \"euribor3m\", \"nr.employed\""
   ]
  },
  {
   "cell_type": "code",
   "execution_count": 10,
   "metadata": {},
   "outputs": [],
   "source": [
    "# Drop column duration\n",
    "df.drop(\"duration\", axis=1, inplace=True)"
   ]
  },
  {
   "cell_type": "markdown",
   "metadata": {},
   "source": [
    "### 2. Target variable"
   ]
  },
  {
   "cell_type": "code",
   "execution_count": 11,
   "metadata": {},
   "outputs": [
    {
     "data": {
      "text/plain": [
       "no     0.887346\n",
       "yes    0.112654\n",
       "Name: y, dtype: float64"
      ]
     },
     "execution_count": 11,
     "metadata": {},
     "output_type": "execute_result"
    }
   ],
   "source": [
    "# Check distribution of target variable\n",
    "df[\"y\"].value_counts(normalize=True)"
   ]
  },
  {
   "cell_type": "code",
   "execution_count": 12,
   "metadata": {},
   "outputs": [],
   "source": [
    "# Change target variable to binary\n",
    "df.loc[:, \"y\"] = df[\"y\"].map(lambda x: 1 if x==\"yes\" else 0)"
   ]
  },
  {
   "cell_type": "markdown",
   "metadata": {},
   "source": [
    "#### Findings\n",
    "Dataset in imbalanced: customers that did not subcribed the product account for 11% of observations."
   ]
  },
  {
   "cell_type": "markdown",
   "metadata": {},
   "source": [
    "### 3. Categorical variables analysis"
   ]
  },
  {
   "cell_type": "code",
   "execution_count": 13,
   "metadata": {},
   "outputs": [],
   "source": [
    "# Create list of categorical variables\n",
    "categorical_variables = [col for col in df.columns if df[col].dtype==\"O\"]"
   ]
  },
  {
   "cell_type": "code",
   "execution_count": 14,
   "metadata": {},
   "outputs": [
    {
     "data": {
      "text/plain": [
       "<AxesSubplot:>"
      ]
     },
     "execution_count": 14,
     "metadata": {},
     "output_type": "execute_result"
    },
    {
     "data": {
      "image/png": "[encoded data removed]",
      "text/plain": [
       "<Figure size 1080x360 with 1 Axes>"
      ]
     },
     "metadata": {
      "needs_background": "light"
     },
     "output_type": "display_data"
    }
   ],
   "source": [
    "# Check number of categories\n",
    "df[categorical_variables].nunique().sort_values(ascending=False).plot.bar(figsize=(15,5))"
   ]
  },
  {
   "cell_type": "code",
   "execution_count": 15,
   "metadata": {},
   "outputs": [
    {
     "name": "stdout",
     "output_type": "stream",
     "text": [
      "Variable: job\n",
      "admin.           0.253035\n",
      "blue-collar      0.224677\n",
      "technician       0.163713\n",
      "services         0.096363\n",
      "management       0.070992\n",
      "retired          0.041760\n",
      "entrepreneur     0.035350\n",
      "self-employed    0.034500\n",
      "housemaid        0.025736\n",
      "unemployed       0.024619\n",
      "student          0.021244\n",
      "unknown          0.008012\n",
      "Name: job, dtype: float64\n",
      "\n",
      "\n",
      "Variable: marital\n",
      "married     0.605225\n",
      "single      0.280859\n",
      "divorced    0.111974\n",
      "unknown     0.001942\n",
      "Name: marital, dtype: float64\n",
      "\n",
      "\n",
      "Variable: education\n",
      "university.degree      0.295426\n",
      "high.school            0.231014\n",
      "basic.9y               0.146766\n",
      "professional.course    0.127294\n",
      "basic.4y               0.101389\n",
      "basic.6y               0.055647\n",
      "unknown                0.042027\n",
      "illiterate             0.000437\n",
      "Name: education, dtype: float64\n",
      "\n",
      "\n",
      "Variable: default\n",
      "no         0.791201\n",
      "unknown    0.208726\n",
      "yes        0.000073\n",
      "Name: default, dtype: float64\n",
      "\n",
      "\n",
      "Variable: housing\n",
      "yes        0.523842\n",
      "no         0.452122\n",
      "unknown    0.024036\n",
      "Name: housing, dtype: float64\n",
      "\n",
      "\n",
      "Variable: loan\n",
      "no         0.824269\n",
      "yes        0.151695\n",
      "unknown    0.024036\n",
      "Name: loan, dtype: float64\n",
      "\n",
      "\n",
      "Variable: contact\n",
      "cellular     0.634748\n",
      "telephone    0.365252\n",
      "Name: contact, dtype: float64\n",
      "\n",
      "\n",
      "Variable: month\n",
      "may    0.334296\n",
      "jul    0.174177\n",
      "aug    0.149995\n",
      "jun    0.129115\n",
      "nov    0.099568\n",
      "apr    0.063902\n",
      "oct    0.017432\n",
      "sep    0.013839\n",
      "mar    0.013256\n",
      "dec    0.004419\n",
      "Name: month, dtype: float64\n",
      "\n",
      "\n",
      "Variable: day_of_week\n",
      "thu    0.209357\n",
      "mon    0.206711\n",
      "wed    0.197485\n",
      "tue    0.196416\n",
      "fri    0.190031\n",
      "Name: day_of_week, dtype: float64\n",
      "\n",
      "\n",
      "Variable: poutcome\n",
      "nonexistent    0.863431\n",
      "failure        0.103234\n",
      "success        0.033335\n",
      "Name: poutcome, dtype: float64\n",
      "\n",
      "\n"
     ]
    }
   ],
   "source": [
    "for col in categorical_variables:\n",
    "    print(f\"Variable: {col}\")\n",
    "    print(df[col].value_counts(normalize=True))\n",
    "    print(\"\\n\")\n"
   ]
  },
  {
   "cell_type": "code",
   "execution_count": 16,
   "metadata": {},
   "outputs": [],
   "source": [
    "# As education is ordinal variable- e.g. university is higher education level than basic I will change it to numerical variable\n",
    "education_mappings = {\"university.degree\": 6, \"professional.course\": 5, \"high.school\": 4, \"basic.9y\": 3, \"basic.6y\": 2, \"basic.4y\": 1, \"illiterate\": 0, \"unknown\": np.NaN}\n",
    "df.loc[:, \"education\"] = df[\"education\"].map(education_mappings)"
   ]
  },
  {
   "cell_type": "code",
   "execution_count": 17,
   "metadata": {},
   "outputs": [],
   "source": [
    "# Fill unknown education with median value and remove from categorical variables\n",
    "df[\"education\"].fillna(df[\"education\"].median(), inplace=True)\n",
    "categorical_variables.remove(\"education\")"
   ]
  },
  {
   "cell_type": "code",
   "execution_count": 18,
   "metadata": {},
   "outputs": [
    {
     "data": {
      "image/png": "[encoded data removed]",
      "text/plain": [
       "<Figure size 864x360 with 1 Axes>"
      ]
     },
     "metadata": {
      "needs_background": "light"
     },
     "output_type": "display_data"
    },
    {
     "data": {
      "image/png": "[encoded data removed]",
      "text/plain": [
       "<Figure size 864x360 with 1 Axes>"
      ]
     },
     "metadata": {
      "needs_background": "light"
     },
     "output_type": "display_data"
    },
    {
     "data": {
      "image/png": "[encoded data removed]",
      "text/plain": [
       "<Figure size 864x360 with 1 Axes>"
      ]
     },
     "metadata": {
      "needs_background": "light"
     },
     "output_type": "display_data"
    },
    {
     "data": {
      "image/png": "[encoded data removed]",
      "text/plain": [
       "<Figure size 864x360 with 1 Axes>"
      ]
     },
     "metadata": {
      "needs_background": "light"
     },
     "output_type": "display_data"
    },
    {
     "data": {
      "image/png": "[encoded data removed]",
      "text/plain": [
       "<Figure size 864x360 with 1 Axes>"
      ]
     },
     "metadata": {
      "needs_background": "light"
     },
     "output_type": "display_data"
    },
    {
     "data": {
      "image/png": "[encoded data removed]",
      "text/plain": [
       "<Figure size 864x360 with 1 Axes>"
      ]
     },
     "metadata": {
      "needs_background": "light"
     },
     "output_type": "display_data"
    },
    {
     "data": {
      "image/png": "[encoded data removed]",
      "text/plain": [
       "<Figure size 864x360 with 1 Axes>"
      ]
     },
     "metadata": {
      "needs_background": "light"
     },
     "output_type": "display_data"
    },
    {
     "data": {
      "image/png": "[encoded data removed]",
      "text/plain": [
       "<Figure size 864x360 with 1 Axes>"
      ]
     },
     "metadata": {
      "needs_background": "light"
     },
     "output_type": "display_data"
    },
    {
     "data": {
      "image/png": "[encoded data removed]",
      "text/plain": [
       "<Figure size 864x360 with 1 Axes>"
      ]
     },
     "metadata": {
      "needs_background": "light"
     },
     "output_type": "display_data"
    }
   ],
   "source": [
    "# Analyse the distribution of categorical variables depending on target value\n",
    "def cat_plot(df, label, col):\n",
    "    \"\"\"Plot percentage of positive label per category in comparison to average postive label percentage\"\"\"\n",
    "    df.groupby(col)[label].value_counts(normalize=True).unstack()[1].plot.bar(figsize=(12,5))\n",
    "    baseline = sum(df[label]==1)/df[label].count()\n",
    "    plt.axhline(y=baseline, color='grey', linestyle='-')\n",
    "    plt.show()\n",
    "\n",
    "for col in categorical_variables:\n",
    "    cat_plot(df, \"y\", col)"
   ]
  },
  {
   "cell_type": "code",
   "execution_count": 19,
   "metadata": {},
   "outputs": [
    {
     "data": {
      "text/plain": [
       "['job',\n",
       " 'marital',\n",
       " 'default',\n",
       " 'housing',\n",
       " 'loan',\n",
       " 'contact',\n",
       " 'month',\n",
       " 'day_of_week',\n",
       " 'poutcome']"
      ]
     },
     "execution_count": 19,
     "metadata": {},
     "output_type": "execute_result"
    }
   ],
   "source": [
    "categorical_variables"
   ]
  },
  {
   "cell_type": "markdown",
   "metadata": {},
   "source": [
    "#### Findings\n",
    "* All categorical features have no more than 12 categories, there are not many rare cateogires, there is no need for cateogories grouping\n",
    "* There are a few features that seem to be correlated with label\n",
    "e.g.:\n",
    "    * job - students, retired people and admin. are more likely to subscribe the product than other groups\n",
    "    * marital status- tthere is a giher % of people who subscribed in groups single and unknown status\n",
    "    * contact - cellular contact more often lead to subscription than telephone one\n",
    "    * month - there is a higher percentage of people who subscribed when the last contact was in March, October, September or December (as there is no clear correlation between time of the year and % of subscripion - e.g higher percentage at the end of the year only, I will leave month and day of week as categorical variable and not change it into numerical)\n",
    "    * poutcome - it's much more likely that the person will sirbscribe if the outcome of the previous marketing campaing was \"success\""
   ]
  },
  {
   "cell_type": "markdown",
   "metadata": {},
   "source": [
    "### 4. Numerical variables analysis"
   ]
  },
  {
   "cell_type": "code",
   "execution_count": 20,
   "metadata": {},
   "outputs": [],
   "source": [
    "# Create a list of numerical variables\n",
    "numerical_variables = list(set(df.columns) - set(categorical_variables) - set(\"y\"))"
   ]
  },
  {
   "cell_type": "code",
   "execution_count": 21,
   "metadata": {},
   "outputs": [],
   "source": [
    "# I will replace missing values in \"pdays\"- 999 with Nan value to be able to properly see data distibution\n",
    "df[\"pdays\"].replace({999: np.NaN}, inplace=True)"
   ]
  },
  {
   "cell_type": "code",
   "execution_count": 22,
   "metadata": {},
   "outputs": [
    {
     "data": {
      "image/png": "[encoded data removed]",
      "text/plain": [
       "<Figure size 864x360 with 1 Axes>"
      ]
     },
     "metadata": {
      "needs_background": "light"
     },
     "output_type": "display_data"
    },
    {
     "data": {
      "image/png": "[encoded data removed]",
      "text/plain": [
       "<Figure size 864x360 with 1 Axes>"
      ]
     },
     "metadata": {
      "needs_background": "light"
     },
     "output_type": "display_data"
    },
    {
     "data": {
      "image/png": "[encoded data removed]",
      "text/plain": [
       "<Figure size 864x360 with 1 Axes>"
      ]
     },
     "metadata": {
      "needs_background": "light"
     },
     "output_type": "display_data"
    },
    {
     "data": {
      "image/png": "[encoded data removed]",
      "text/plain": [
       "<Figure size 864x360 with 1 Axes>"
      ]
     },
     "metadata": {
      "needs_background": "light"
     },
     "output_type": "display_data"
    },
    {
     "data": {
      "image/png": "[encoded data removed]",
      "text/plain": [
       "<Figure size 864x360 with 1 Axes>"
      ]
     },
     "metadata": {
      "needs_background": "light"
     },
     "output_type": "display_data"
    },
    {
     "data": {
      "image/png": "[encoded data removed]",
      "text/plain": [
       "<Figure size 864x360 with 1 Axes>"
      ]
     },
     "metadata": {
      "needs_background": "light"
     },
     "output_type": "display_data"
    },
    {
     "data": {
      "image/png": "[encoded data removed]",
      "text/plain": [
       "<Figure size 864x360 with 1 Axes>"
      ]
     },
     "metadata": {
      "needs_background": "light"
     },
     "output_type": "display_data"
    },
    {
     "data": {
      "image/png": "[encoded data removed]",
      "text/plain": [
       "<Figure size 864x360 with 1 Axes>"
      ]
     },
     "metadata": {
      "needs_background": "light"
     },
     "output_type": "display_data"
    },
    {
     "data": {
      "image/png": "[encoded data removed]",
      "text/plain": [
       "<Figure size 864x360 with 1 Axes>"
      ]
     },
     "metadata": {
      "needs_background": "light"
     },
     "output_type": "display_data"
    },
    {
     "data": {
      "image/png": "[encoded data removed]",
      "text/plain": [
       "<Figure size 864x360 with 1 Axes>"
      ]
     },
     "metadata": {
      "needs_background": "light"
     },
     "output_type": "display_data"
    }
   ],
   "source": [
    "# PLot histograms of features\n",
    "for col in numerical_variables:\n",
    "    fig=plt.figure(figsize=(12,5))\n",
    "    ax=fig.gca()\n",
    "    ax.hist(df[col])\n",
    "    ax.set_title(col)"
   ]
  },
  {
   "cell_type": "code",
   "execution_count": 23,
   "metadata": {},
   "outputs": [
    {
     "data": {
      "text/plain": [
       "education        -0.499051\n",
       "euribor3m        -0.709188\n",
       "previous          3.832042\n",
       "pdays             1.458564\n",
       "campaign          4.762507\n",
       "age               0.784697\n",
       "cons.price.idx   -0.230888\n",
       "nr.employed      -1.044262\n",
       "emp.var.rate     -0.724096\n",
       "cons.conf.idx     0.303180\n",
       "dtype: float64"
      ]
     },
     "execution_count": 23,
     "metadata": {},
     "output_type": "execute_result"
    }
   ],
   "source": [
    "# Check skewness\n",
    "df[numerical_variables].skew()"
   ]
  },
  {
   "cell_type": "code",
   "execution_count": 24,
   "metadata": {},
   "outputs": [
    {
     "data": {
      "image/png": "[encoded data removed]",
      "text/plain": [
       "<Figure size 576x360 with 1 Axes>"
      ]
     },
     "metadata": {
      "needs_background": "light"
     },
     "output_type": "display_data"
    },
    {
     "data": {
      "image/png": "[encoded data removed]",
      "text/plain": [
       "<Figure size 576x360 with 1 Axes>"
      ]
     },
     "metadata": {
      "needs_background": "light"
     },
     "output_type": "display_data"
    },
    {
     "data": {
      "image/png": "[encoded data removed]",
      "text/plain": [
       "<Figure size 576x360 with 1 Axes>"
      ]
     },
     "metadata": {
      "needs_background": "light"
     },
     "output_type": "display_data"
    },
    {
     "data": {
      "image/png": "[encoded data removed]",
      "text/plain": [
       "<Figure size 576x360 with 1 Axes>"
      ]
     },
     "metadata": {
      "needs_background": "light"
     },
     "output_type": "display_data"
    },
    {
     "data": {
      "image/png": "[encoded data removed]",
      "text/plain": [
       "<Figure size 576x360 with 1 Axes>"
      ]
     },
     "metadata": {
      "needs_background": "light"
     },
     "output_type": "display_data"
    },
    {
     "data": {
      "image/png": "[encoded data removed]",
      "text/plain": [
       "<Figure size 576x360 with 1 Axes>"
      ]
     },
     "metadata": {
      "needs_background": "light"
     },
     "output_type": "display_data"
    },
    {
     "data": {
      "image/png": "[encoded data removed]",
      "text/plain": [
       "<Figure size 576x360 with 1 Axes>"
      ]
     },
     "metadata": {
      "needs_background": "light"
     },
     "output_type": "display_data"
    },
    {
     "data": {
      "image/png": "[encoded data removed]",
      "text/plain": [
       "<Figure size 576x360 with 1 Axes>"
      ]
     },
     "metadata": {
      "needs_background": "light"
     },
     "output_type": "display_data"
    },
    {
     "data": {
      "image/png": "[encoded data removed]",
      "text/plain": [
       "<Figure size 576x360 with 1 Axes>"
      ]
     },
     "metadata": {
      "needs_background": "light"
     },
     "output_type": "display_data"
    },
    {
     "data": {
      "image/png": "[encoded data removed]",
      "text/plain": [
       "<Figure size 576x360 with 1 Axes>"
      ]
     },
     "metadata": {
      "needs_background": "light"
     },
     "output_type": "display_data"
    }
   ],
   "source": [
    "# Drow distibutions of numerical features by target\n",
    "for col in numerical_variables:            \n",
    "    fig = plt.figure(figsize=(8,5))\n",
    "    fig.clf()\n",
    "    ax = fig.gca() \n",
    "    df.boxplot(column=[col], ax=ax, by=['y'])     \n"
   ]
  },
  {
   "cell_type": "markdown",
   "metadata": {},
   "source": [
    "#### Findings\n",
    "* there are 3 skewed features: \"previous\", \"campaing\", \"pdays\". It may be worth testing if using logaritm of those feature will improve model accuracy\n",
    "* for some features distibution is different depending on target. These may be good features for model:\n",
    "    * emp.var.rate - for group of customers who subrscribed the product mean employee variation rate is lower\n",
    "    * euribor3M - there are more customers subscribing the product when the euribor 3m rtae is lower\n",
    "    * nr.empoyed - there are were customers subscribing the product when number of employees was lower"
   ]
  },
  {
   "cell_type": "code",
   "execution_count": 25,
   "metadata": {},
   "outputs": [],
   "source": [
    "# I'll add logaritms of the shewed features to see if it's better correlated with the target\n",
    "for col in [\"previous\", \"campaign\", \"pdays\"]:\n",
    "    df[f\"{col}_log\"] = np.log(df[col])"
   ]
  },
  {
   "cell_type": "markdown",
   "metadata": {},
   "source": [
    "### 5. Data correlation"
   ]
  },
  {
   "cell_type": "code",
   "execution_count": 26,
   "metadata": {},
   "outputs": [
    {
     "data": {
      "text/plain": [
       "<AxesSubplot:title={'center':'Correlation Matrix'}>"
      ]
     },
     "metadata": {},
     "output_type": "display_data"
    },
    {
     "data": {
      "text/plain": [
       "<data_describe.core.correlation.CorrelationWidget at 0x2c2e1fb66d0>"
      ]
     },
     "execution_count": 26,
     "metadata": {},
     "output_type": "execute_result"
    },
    {
     "data": {
      "image/png": "[encoded data removed]",
      "text/plain": [
       "<Figure size 720x720 with 2 Axes>"
      ]
     },
     "metadata": {
      "needs_background": "light"
     },
     "output_type": "display_data"
    }
   ],
   "source": [
    "# Draw data correlation matrix\n",
    "dd.correlation_matrix(df)"
   ]
  },
  {
   "cell_type": "code",
   "execution_count": 27,
   "metadata": {},
   "outputs": [
    {
     "data": {
      "text/html": [
       "<div>\n",
       "<style scoped>\n",
       "    .dataframe tbody tr th:only-of-type {\n",
       "        vertical-align: middle;\n",
       "    }\n",
       "\n",
       "    .dataframe tbody tr th {\n",
       "        vertical-align: top;\n",
       "    }\n",
       "\n",
       "    .dataframe thead th {\n",
       "        text-align: right;\n",
       "    }\n",
       "</style>\n",
       "<table border=\"1\" class=\"dataframe\">\n",
       "  <thead>\n",
       "    <tr style=\"text-align: right;\">\n",
       "      <th></th>\n",
       "      <th>level_0</th>\n",
       "      <th>level_1</th>\n",
       "      <th>0</th>\n",
       "    </tr>\n",
       "  </thead>\n",
       "  <tbody>\n",
       "    <tr>\n",
       "      <th>3</th>\n",
       "      <td>campaign</td>\n",
       "      <td>campaign_log</td>\n",
       "      <td>1.000000</td>\n",
       "    </tr>\n",
       "    <tr>\n",
       "      <th>5</th>\n",
       "      <td>pdays</td>\n",
       "      <td>pdays_log</td>\n",
       "      <td>1.000000</td>\n",
       "    </tr>\n",
       "    <tr>\n",
       "      <th>7</th>\n",
       "      <td>previous</td>\n",
       "      <td>previous_log</td>\n",
       "      <td>1.000000</td>\n",
       "    </tr>\n",
       "    <tr>\n",
       "      <th>9</th>\n",
       "      <td>emp.var.rate</td>\n",
       "      <td>euribor3m</td>\n",
       "      <td>0.939915</td>\n",
       "    </tr>\n",
       "    <tr>\n",
       "      <th>10</th>\n",
       "      <td>emp.var.rate</td>\n",
       "      <td>nr.employed</td>\n",
       "      <td>0.944702</td>\n",
       "    </tr>\n",
       "    <tr>\n",
       "      <th>13</th>\n",
       "      <td>euribor3m</td>\n",
       "      <td>emp.var.rate</td>\n",
       "      <td>0.939915</td>\n",
       "    </tr>\n",
       "    <tr>\n",
       "      <th>15</th>\n",
       "      <td>euribor3m</td>\n",
       "      <td>nr.employed</td>\n",
       "      <td>0.928857</td>\n",
       "    </tr>\n",
       "    <tr>\n",
       "      <th>16</th>\n",
       "      <td>nr.employed</td>\n",
       "      <td>emp.var.rate</td>\n",
       "      <td>0.944702</td>\n",
       "    </tr>\n",
       "    <tr>\n",
       "      <th>17</th>\n",
       "      <td>nr.employed</td>\n",
       "      <td>euribor3m</td>\n",
       "      <td>0.928857</td>\n",
       "    </tr>\n",
       "    <tr>\n",
       "      <th>20</th>\n",
       "      <td>previous_log</td>\n",
       "      <td>previous</td>\n",
       "      <td>1.000000</td>\n",
       "    </tr>\n",
       "    <tr>\n",
       "      <th>22</th>\n",
       "      <td>campaign_log</td>\n",
       "      <td>campaign</td>\n",
       "      <td>1.000000</td>\n",
       "    </tr>\n",
       "    <tr>\n",
       "      <th>24</th>\n",
       "      <td>pdays_log</td>\n",
       "      <td>pdays</td>\n",
       "      <td>1.000000</td>\n",
       "    </tr>\n",
       "  </tbody>\n",
       "</table>\n",
       "</div>"
      ],
      "text/plain": [
       "         level_0       level_1         0\n",
       "3       campaign  campaign_log  1.000000\n",
       "5          pdays     pdays_log  1.000000\n",
       "7       previous  previous_log  1.000000\n",
       "9   emp.var.rate     euribor3m  0.939915\n",
       "10  emp.var.rate   nr.employed  0.944702\n",
       "13     euribor3m  emp.var.rate  0.939915\n",
       "15     euribor3m   nr.employed  0.928857\n",
       "16   nr.employed  emp.var.rate  0.944702\n",
       "17   nr.employed     euribor3m  0.928857\n",
       "20  previous_log      previous  1.000000\n",
       "22  campaign_log      campaign  1.000000\n",
       "24     pdays_log         pdays  1.000000"
      ]
     },
     "execution_count": 27,
     "metadata": {},
     "output_type": "execute_result"
    }
   ],
   "source": [
    "# Check highly correlated features- separman correlartion > 0.9\n",
    "corrs = df.corr(method='spearman').abs().unstack()[df.corr(method='spearman').abs().unstack()>0.9].reset_index()\n",
    "corrs = corrs[corrs['level_0'] != corrs['level_1']]\n",
    "corrs"
   ]
  },
  {
   "cell_type": "code",
   "execution_count": 28,
   "metadata": {},
   "outputs": [
    {
     "data": {
      "text/plain": [
       "y                 1.000000\n",
       "nr.employed      -0.283957\n",
       "euribor3m        -0.266822\n",
       "previous_log      0.259099\n",
       "emp.var.rate     -0.247480\n",
       "previous          0.200914\n",
       "cons.price.idx   -0.122187\n",
       "campaign         -0.063668\n",
       "campaign_log     -0.063668\n",
       "education         0.056074\n",
       "cons.conf.idx     0.041229\n",
       "pdays            -0.022348\n",
       "pdays_log        -0.021752\n",
       "age              -0.011861\n",
       "Name: y, dtype: float64"
      ]
     },
     "execution_count": 28,
     "metadata": {},
     "output_type": "execute_result"
    }
   ],
   "source": [
    "# Check features correlation with target\n",
    "df.corr(method='spearman')[\"y\"].sort_values(ascending=False, key=lambda x: abs(x))"
   ]
  },
  {
   "cell_type": "markdown",
   "metadata": {},
   "source": [
    "#### Findings\n",
    "* there are 3 highly correlated features: \"emp.var.rate\", \"euribor3m\", \"nr.employed\". Multicollinearity can make it harder to understand which varibale is statistically significant. A few correlated features do not add value to the model. To avoid this I will use in modelling only 1 of those features- the one that has the highest correlation with the target - nr.employed\n",
    "* Using logaritm of feature improved correlation with target only for feature \"previous\". I will transorm this feature in data engineering phase\n",
    "* There are a few features moderately correlated with the variable:\n",
    "    * positive correlation (the higher the feature the more probabble thaat customer will subscribe product): \n",
    "        * \"previous\"- if the customer was concated multiple times it is more likely they will subscribe\n",
    "    * negative:\n",
    "        * \"nr.employeed\" - there were less subscriptions when the number of employees was higher\n",
    "        * \"euribor3m\" - the higher the euribor3m the less subscriptions made\n",
    "        * \"emp.var.rate\" - the higher the emp.var.rate the less subscriptions made"
   ]
  },
  {
   "cell_type": "code",
   "execution_count": null,
   "metadata": {},
   "outputs": [],
   "source": []
  }
 ],
 "metadata": {
  "kernelspec": {
   "display_name": "Python 3.8.5 ('base')",
   "language": "python",
   "name": "python3"
  },
  "language_info": {
   "codemirror_mode": {
    "name": "ipython",
    "version": 3
   },
   "file_extension": ".py",
   "mimetype": "text/x-python",
   "name": "python",
   "nbconvert_exporter": "python",
   "pygments_lexer": "ipython3",
   "version": "3.8.5"
  },
  "orig_nbformat": 4,
  "vscode": {
   "interpreter": {
    "hash": "f2b16a735eed62370cf525db31c923f37fb90b1355c3acbedd0b706df0b3965a"
   }
  }
 },
 "nbformat": 4,
 "nbformat_minor": 2
}
