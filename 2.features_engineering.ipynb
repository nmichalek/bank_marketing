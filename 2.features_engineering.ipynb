{
 "cells": [
  {
   "cell_type": "markdown",
   "metadata": {},
   "source": [
    "## Feature Engineering\n",
    "The goal of the notebook is to perform features engineering required accoring to Data Exploration and prepare data for modelling.\n",
    "I will perform the following steps:\n",
    "1. Features Engineering\n",
    "2. Features Selection\n",
    "3. Balancing dataset"
   ]
  },
  {
   "cell_type": "code",
   "execution_count": 14,
   "metadata": {},
   "outputs": [],
   "source": [
    "# data manipulation and plotting\n",
    "import pandas as pd\n",
    "import numpy as np\n",
    "import matplotlib.pyplot as plt\n",
    "\n",
    "from sklearn.model_selection import train_test_split\n",
    "from sklearn.pipeline import Pipeline\n",
    "from sklearn.preprocessing import StandardScaler\n",
    "from sklearn.feature_selection import SelectFromModel\n",
    "from sklearn.linear_model import Lasso\n",
    "\n",
    "# from feature-engine\n",
    "from feature_engine.imputation import MeanMedianImputer\n",
    "from feature_engine.encoding import OneHotEncoder\n",
    "from feature_engine.transformation import LogTransformer\n",
    "\n",
    "from feature_engine.selection import DropFeatures\n",
    "from feature_engine.wrappers import SklearnTransformerWrapper\n",
    "\n",
    "import preprocessing_utils as pp\n",
    "\n",
    "import warnings\n",
    "warnings.filterwarnings(\"ignore\")"
   ]
  },
  {
   "cell_type": "markdown",
   "metadata": {},
   "source": [
    "### 1. Features Engineering"
   ]
  },
  {
   "cell_type": "code",
   "execution_count": 15,
   "metadata": {},
   "outputs": [],
   "source": [
    "# Import data\n",
    "df = pd.read_csv(\"bank-additional-full.csv\", sep=\";\")"
   ]
  },
  {
   "cell_type": "code",
   "execution_count": 16,
   "metadata": {},
   "outputs": [],
   "source": [
    "# Change target variable to binary\n",
    "df.loc[:, \"y\"] = df[\"y\"].map(lambda x: 1 if x==\"yes\" else 0)"
   ]
  },
  {
   "cell_type": "code",
   "execution_count": 17,
   "metadata": {},
   "outputs": [],
   "source": [
    "# Prepare train and test set\n",
    "# For simplicity and time saving I will use only split for train and test not train, test, validation or cross validation\n",
    "X = df.loc[:, df.columns != 'y']\n",
    "y = df[\"y\"]\n",
    "X_train, X_test, y_train, y_test = train_test_split(\n",
    "    X,\n",
    "    y, \n",
    "    test_size=0.1,\n",
    "    random_state=2022\n",
    ")"
   ]
  },
  {
   "cell_type": "code",
   "execution_count": 18,
   "metadata": {},
   "outputs": [],
   "source": [
    "# Define the mapping for education feature\n",
    "education_mappings = {\"university.degree\": 6, \n",
    "                      \"professional.course\": 5,\n",
    "                      \"high.school\": 4,\n",
    "                      \"basic.9y\": 3,\n",
    "                      \"basic.6y\": 2,\n",
    "                      \"basic.4y\": 1,\n",
    "                      \"illiterate\": 0,\n",
    "                      \"unknown\": np.NaN}"
   ]
  },
  {
   "cell_type": "code",
   "execution_count": 19,
   "metadata": {},
   "outputs": [],
   "source": [
    "# Define categorical and numerical variables\n",
    "categorical_variables = [col for col in df.columns if df[col].dtype==\"O\" and col not in [\"education\"]]\n",
    "numerical_variables = list(set(df.columns) - set(categorical_variables) - set(\"y\"))\n",
    "features_to_drop = [\"duration\", \"emp.var.rate\", \"euribor3m\"]"
   ]
  },
  {
   "cell_type": "code",
   "execution_count": 20,
   "metadata": {},
   "outputs": [],
   "source": [
    "# Define preprocessing pipeline\n",
    "\n",
    "marketing_pipe = Pipeline([\n",
    "\n",
    "    # Change categorical variable \"education\" to ordinal\n",
    "    ('mapper_education', pp.Mapper(\n",
    "        variables=[\"education\"], mappings=education_mappings)),\n",
    "\n",
    "    # Replace 999 with np.NaN to fill missing values\n",
    "    (\"missing_adding\", pp.Missing_Adding(\n",
    "        variables = [\"pdays\"]\n",
    "    )),\n",
    "\n",
    "    # Impute numerical variables with the median\n",
    "    ('median_imputation', MeanMedianImputer(\n",
    "        imputation_method='median', variables=numerical_variables\n",
    "    )),\n",
    "    \n",
    "    # Drop features as per data analysis\n",
    "    ('drop_features', DropFeatures(features_to_drop=features_to_drop)),\n",
    "\n",
    "    # Add to values 0.01 to enable logarithm calculation\n",
    "    ('non_zero', pp.NonZero(variables=[\"previous\"])),\n",
    "\n",
    "    # Replace feature \"previous\" with it's logarithm\n",
    "    ('log', LogTransformer(variables=[\"previous\"])),  \n",
    "\n",
    "    # One hot encode categorical features\n",
    "    ('one_hot_encoder', OneHotEncoder(\n",
    "        drop_last=True)),\n",
    "])"
   ]
  },
  {
   "cell_type": "code",
   "execution_count": 21,
   "metadata": {},
   "outputs": [
    {
     "data": {
      "text/html": [
       "<style>#sk-container-id-2 {color: black;background-color: white;}#sk-container-id-2 pre{padding: 0;}#sk-container-id-2 div.sk-toggleable {background-color: white;}#sk-container-id-2 label.sk-toggleable__label {cursor: pointer;display: block;width: 100%;margin-bottom: 0;padding: 0.3em;box-sizing: border-box;text-align: center;}#sk-container-id-2 label.sk-toggleable__label-arrow:before {content: \"▸\";float: left;margin-right: 0.25em;color: #696969;}#sk-container-id-2 label.sk-toggleable__label-arrow:hover:before {color: black;}#sk-container-id-2 div.sk-estimator:hover label.sk-toggleable__label-arrow:before {color: black;}#sk-container-id-2 div.sk-toggleable__content {max-height: 0;max-width: 0;overflow: hidden;text-align: left;background-color: #f0f8ff;}#sk-container-id-2 div.sk-toggleable__content pre {margin: 0.2em;color: black;border-radius: 0.25em;background-color: #f0f8ff;}#sk-container-id-2 input.sk-toggleable__control:checked~div.sk-toggleable__content {max-height: 200px;max-width: 100%;overflow: auto;}#sk-container-id-2 input.sk-toggleable__control:checked~label.sk-toggleable__label-arrow:before {content: \"▾\";}#sk-container-id-2 div.sk-estimator input.sk-toggleable__control:checked~label.sk-toggleable__label {background-color: #d4ebff;}#sk-container-id-2 div.sk-label input.sk-toggleable__control:checked~label.sk-toggleable__label {background-color: #d4ebff;}#sk-container-id-2 input.sk-hidden--visually {border: 0;clip: rect(1px 1px 1px 1px);clip: rect(1px, 1px, 1px, 1px);height: 1px;margin: -1px;overflow: hidden;padding: 0;position: absolute;width: 1px;}#sk-container-id-2 div.sk-estimator {font-family: monospace;background-color: #f0f8ff;border: 1px dotted black;border-radius: 0.25em;box-sizing: border-box;margin-bottom: 0.5em;}#sk-container-id-2 div.sk-estimator:hover {background-color: #d4ebff;}#sk-container-id-2 div.sk-parallel-item::after {content: \"\";width: 100%;border-bottom: 1px solid gray;flex-grow: 1;}#sk-container-id-2 div.sk-label:hover label.sk-toggleable__label {background-color: #d4ebff;}#sk-container-id-2 div.sk-serial::before {content: \"\";position: absolute;border-left: 1px solid gray;box-sizing: border-box;top: 0;bottom: 0;left: 50%;z-index: 0;}#sk-container-id-2 div.sk-serial {display: flex;flex-direction: column;align-items: center;background-color: white;padding-right: 0.2em;padding-left: 0.2em;position: relative;}#sk-container-id-2 div.sk-item {position: relative;z-index: 1;}#sk-container-id-2 div.sk-parallel {display: flex;align-items: stretch;justify-content: center;background-color: white;position: relative;}#sk-container-id-2 div.sk-item::before, #sk-container-id-2 div.sk-parallel-item::before {content: \"\";position: absolute;border-left: 1px solid gray;box-sizing: border-box;top: 0;bottom: 0;left: 50%;z-index: -1;}#sk-container-id-2 div.sk-parallel-item {display: flex;flex-direction: column;z-index: 1;position: relative;background-color: white;}#sk-container-id-2 div.sk-parallel-item:first-child::after {align-self: flex-end;width: 50%;}#sk-container-id-2 div.sk-parallel-item:last-child::after {align-self: flex-start;width: 50%;}#sk-container-id-2 div.sk-parallel-item:only-child::after {width: 0;}#sk-container-id-2 div.sk-dashed-wrapped {border: 1px dashed gray;margin: 0 0.4em 0.5em 0.4em;box-sizing: border-box;padding-bottom: 0.4em;background-color: white;}#sk-container-id-2 div.sk-label label {font-family: monospace;font-weight: bold;display: inline-block;line-height: 1.2em;}#sk-container-id-2 div.sk-label-container {text-align: center;}#sk-container-id-2 div.sk-container {/* jupyter's `normalize.less` sets `[hidden] { display: none; }` but bootstrap.min.css set `[hidden] { display: none !important; }` so we also need the `!important` here to be able to override the default hidden behavior on the sphinx rendered scikit-learn.org. See: https://github.com/scikit-learn/scikit-learn/issues/21755 */display: inline-block !important;position: relative;}#sk-container-id-2 div.sk-text-repr-fallback {display: none;}</style><div id=\"sk-container-id-2\" class=\"sk-top-container\"><div class=\"sk-text-repr-fallback\"><pre>Pipeline(steps=[(&#x27;mapper_education&#x27;,\n",
       "                 Mapper(mappings={&#x27;basic.4y&#x27;: 1, &#x27;basic.6y&#x27;: 2, &#x27;basic.9y&#x27;: 3,\n",
       "                                  &#x27;high.school&#x27;: 4, &#x27;illiterate&#x27;: 0,\n",
       "                                  &#x27;professional.course&#x27;: 5,\n",
       "                                  &#x27;university.degree&#x27;: 6, &#x27;unknown&#x27;: nan},\n",
       "                        variables=[&#x27;education&#x27;])),\n",
       "                (&#x27;missing_adding&#x27;, Missing_Adding(variables=[&#x27;pdays&#x27;])),\n",
       "                (&#x27;median_imputation&#x27;,\n",
       "                 MeanMedianImputer(variables=[&#x27;cons.price.idx&#x27;, &#x27;cons.conf.idx&#x27;,\n",
       "                                              &#x27;euribor3m&#x27;, &#x27;education&#x27;,\n",
       "                                              &#x27;nr.employed&#x27;, &#x27;duration&#x27;,\n",
       "                                              &#x27;campaign&#x27;, &#x27;age&#x27;, &#x27;emp.var.rate&#x27;,\n",
       "                                              &#x27;previous&#x27;, &#x27;pdays&#x27;])),\n",
       "                (&#x27;drop_features&#x27;,\n",
       "                 DropFeatures(features_to_drop=[&#x27;duration&#x27;, &#x27;emp.var.rate&#x27;,\n",
       "                                                &#x27;euribor3m&#x27;])),\n",
       "                (&#x27;non_zero&#x27;, NonZero(variables=[&#x27;previous&#x27;])),\n",
       "                (&#x27;log&#x27;, LogTransformer(variables=[&#x27;previous&#x27;])),\n",
       "                (&#x27;one_hot_encoder&#x27;, OneHotEncoder(drop_last=True))])</pre><b>In a Jupyter environment, please rerun this cell to show the HTML representation or trust the notebook. <br />On GitHub, the HTML representation is unable to render, please try loading this page with nbviewer.org.</b></div><div class=\"sk-container\" hidden><div class=\"sk-item sk-dashed-wrapped\"><div class=\"sk-label-container\"><div class=\"sk-label sk-toggleable\"><input class=\"sk-toggleable__control sk-hidden--visually\" id=\"sk-estimator-id-9\" type=\"checkbox\" ><label for=\"sk-estimator-id-9\" class=\"sk-toggleable__label sk-toggleable__label-arrow\">Pipeline</label><div class=\"sk-toggleable__content\"><pre>Pipeline(steps=[(&#x27;mapper_education&#x27;,\n",
       "                 Mapper(mappings={&#x27;basic.4y&#x27;: 1, &#x27;basic.6y&#x27;: 2, &#x27;basic.9y&#x27;: 3,\n",
       "                                  &#x27;high.school&#x27;: 4, &#x27;illiterate&#x27;: 0,\n",
       "                                  &#x27;professional.course&#x27;: 5,\n",
       "                                  &#x27;university.degree&#x27;: 6, &#x27;unknown&#x27;: nan},\n",
       "                        variables=[&#x27;education&#x27;])),\n",
       "                (&#x27;missing_adding&#x27;, Missing_Adding(variables=[&#x27;pdays&#x27;])),\n",
       "                (&#x27;median_imputation&#x27;,\n",
       "                 MeanMedianImputer(variables=[&#x27;cons.price.idx&#x27;, &#x27;cons.conf.idx&#x27;,\n",
       "                                              &#x27;euribor3m&#x27;, &#x27;education&#x27;,\n",
       "                                              &#x27;nr.employed&#x27;, &#x27;duration&#x27;,\n",
       "                                              &#x27;campaign&#x27;, &#x27;age&#x27;, &#x27;emp.var.rate&#x27;,\n",
       "                                              &#x27;previous&#x27;, &#x27;pdays&#x27;])),\n",
       "                (&#x27;drop_features&#x27;,\n",
       "                 DropFeatures(features_to_drop=[&#x27;duration&#x27;, &#x27;emp.var.rate&#x27;,\n",
       "                                                &#x27;euribor3m&#x27;])),\n",
       "                (&#x27;non_zero&#x27;, NonZero(variables=[&#x27;previous&#x27;])),\n",
       "                (&#x27;log&#x27;, LogTransformer(variables=[&#x27;previous&#x27;])),\n",
       "                (&#x27;one_hot_encoder&#x27;, OneHotEncoder(drop_last=True))])</pre></div></div></div><div class=\"sk-serial\"><div class=\"sk-item\"><div class=\"sk-estimator sk-toggleable\"><input class=\"sk-toggleable__control sk-hidden--visually\" id=\"sk-estimator-id-10\" type=\"checkbox\" ><label for=\"sk-estimator-id-10\" class=\"sk-toggleable__label sk-toggleable__label-arrow\">Mapper</label><div class=\"sk-toggleable__content\"><pre>Mapper(mappings={&#x27;basic.4y&#x27;: 1, &#x27;basic.6y&#x27;: 2, &#x27;basic.9y&#x27;: 3, &#x27;high.school&#x27;: 4,\n",
       "                 &#x27;illiterate&#x27;: 0, &#x27;professional.course&#x27;: 5,\n",
       "                 &#x27;university.degree&#x27;: 6, &#x27;unknown&#x27;: nan},\n",
       "       variables=[&#x27;education&#x27;])</pre></div></div></div><div class=\"sk-item\"><div class=\"sk-estimator sk-toggleable\"><input class=\"sk-toggleable__control sk-hidden--visually\" id=\"sk-estimator-id-11\" type=\"checkbox\" ><label for=\"sk-estimator-id-11\" class=\"sk-toggleable__label sk-toggleable__label-arrow\">Missing_Adding</label><div class=\"sk-toggleable__content\"><pre>Missing_Adding(variables=[&#x27;pdays&#x27;])</pre></div></div></div><div class=\"sk-item\"><div class=\"sk-estimator sk-toggleable\"><input class=\"sk-toggleable__control sk-hidden--visually\" id=\"sk-estimator-id-12\" type=\"checkbox\" ><label for=\"sk-estimator-id-12\" class=\"sk-toggleable__label sk-toggleable__label-arrow\">MeanMedianImputer</label><div class=\"sk-toggleable__content\"><pre>MeanMedianImputer(variables=[&#x27;cons.price.idx&#x27;, &#x27;cons.conf.idx&#x27;, &#x27;euribor3m&#x27;,\n",
       "                             &#x27;education&#x27;, &#x27;nr.employed&#x27;, &#x27;duration&#x27;, &#x27;campaign&#x27;,\n",
       "                             &#x27;age&#x27;, &#x27;emp.var.rate&#x27;, &#x27;previous&#x27;, &#x27;pdays&#x27;])</pre></div></div></div><div class=\"sk-item\"><div class=\"sk-estimator sk-toggleable\"><input class=\"sk-toggleable__control sk-hidden--visually\" id=\"sk-estimator-id-13\" type=\"checkbox\" ><label for=\"sk-estimator-id-13\" class=\"sk-toggleable__label sk-toggleable__label-arrow\">DropFeatures</label><div class=\"sk-toggleable__content\"><pre>DropFeatures(features_to_drop=[&#x27;duration&#x27;, &#x27;emp.var.rate&#x27;, &#x27;euribor3m&#x27;])</pre></div></div></div><div class=\"sk-item\"><div class=\"sk-estimator sk-toggleable\"><input class=\"sk-toggleable__control sk-hidden--visually\" id=\"sk-estimator-id-14\" type=\"checkbox\" ><label for=\"sk-estimator-id-14\" class=\"sk-toggleable__label sk-toggleable__label-arrow\">NonZero</label><div class=\"sk-toggleable__content\"><pre>NonZero(variables=[&#x27;previous&#x27;])</pre></div></div></div><div class=\"sk-item\"><div class=\"sk-estimator sk-toggleable\"><input class=\"sk-toggleable__control sk-hidden--visually\" id=\"sk-estimator-id-15\" type=\"checkbox\" ><label for=\"sk-estimator-id-15\" class=\"sk-toggleable__label sk-toggleable__label-arrow\">LogTransformer</label><div class=\"sk-toggleable__content\"><pre>LogTransformer(variables=[&#x27;previous&#x27;])</pre></div></div></div><div class=\"sk-item\"><div class=\"sk-estimator sk-toggleable\"><input class=\"sk-toggleable__control sk-hidden--visually\" id=\"sk-estimator-id-16\" type=\"checkbox\" ><label for=\"sk-estimator-id-16\" class=\"sk-toggleable__label sk-toggleable__label-arrow\">OneHotEncoder</label><div class=\"sk-toggleable__content\"><pre>OneHotEncoder(drop_last=True)</pre></div></div></div></div></div></div></div>"
      ],
      "text/plain": [
       "Pipeline(steps=[('mapper_education',\n",
       "                 Mapper(mappings={'basic.4y': 1, 'basic.6y': 2, 'basic.9y': 3,\n",
       "                                  'high.school': 4, 'illiterate': 0,\n",
       "                                  'professional.course': 5,\n",
       "                                  'university.degree': 6, 'unknown': nan},\n",
       "                        variables=['education'])),\n",
       "                ('missing_adding', Missing_Adding(variables=['pdays'])),\n",
       "                ('median_imputation',\n",
       "                 MeanMedianImputer(variables=['cons.price.idx', 'cons.conf.idx',\n",
       "                                              'euribor3m', 'education',\n",
       "                                              'nr.employed', 'duration',\n",
       "                                              'campaign', 'age', 'emp.var.rate',\n",
       "                                              'previous', 'pdays'])),\n",
       "                ('drop_features',\n",
       "                 DropFeatures(features_to_drop=['duration', 'emp.var.rate',\n",
       "                                                'euribor3m'])),\n",
       "                ('non_zero', NonZero(variables=['previous'])),\n",
       "                ('log', LogTransformer(variables=['previous'])),\n",
       "                ('one_hot_encoder', OneHotEncoder(drop_last=True))])"
      ]
     },
     "execution_count": 21,
     "metadata": {},
     "output_type": "execute_result"
    }
   ],
   "source": [
    "# Train the preprocessing pipeline\n",
    "marketing_pipe.fit(X_train, y_train)"
   ]
  },
  {
   "cell_type": "code",
   "execution_count": 22,
   "metadata": {},
   "outputs": [],
   "source": [
    "# Transform data using pipeline\n",
    "X_train = marketing_pipe.transform(X_train)\n",
    "X_test = marketing_pipe.transform(X_test)"
   ]
  },
  {
   "cell_type": "code",
   "execution_count": 23,
   "metadata": {},
   "outputs": [
    {
     "data": {
      "text/plain": [
       "(37069, 44)"
      ]
     },
     "execution_count": 23,
     "metadata": {},
     "output_type": "execute_result"
    }
   ],
   "source": [
    "# Check shape of X_train\n",
    "X_train.shape"
   ]
  },
  {
   "cell_type": "markdown",
   "metadata": {},
   "source": [
    "#### 2. Fetures selection\n",
    "I will use Lasso technique to select best features for the model"
   ]
  },
  {
   "cell_type": "code",
   "execution_count": 24,
   "metadata": {},
   "outputs": [
    {
     "data": {
      "text/html": [
       "<style>#sk-container-id-3 {color: black;background-color: white;}#sk-container-id-3 pre{padding: 0;}#sk-container-id-3 div.sk-toggleable {background-color: white;}#sk-container-id-3 label.sk-toggleable__label {cursor: pointer;display: block;width: 100%;margin-bottom: 0;padding: 0.3em;box-sizing: border-box;text-align: center;}#sk-container-id-3 label.sk-toggleable__label-arrow:before {content: \"▸\";float: left;margin-right: 0.25em;color: #696969;}#sk-container-id-3 label.sk-toggleable__label-arrow:hover:before {color: black;}#sk-container-id-3 div.sk-estimator:hover label.sk-toggleable__label-arrow:before {color: black;}#sk-container-id-3 div.sk-toggleable__content {max-height: 0;max-width: 0;overflow: hidden;text-align: left;background-color: #f0f8ff;}#sk-container-id-3 div.sk-toggleable__content pre {margin: 0.2em;color: black;border-radius: 0.25em;background-color: #f0f8ff;}#sk-container-id-3 input.sk-toggleable__control:checked~div.sk-toggleable__content {max-height: 200px;max-width: 100%;overflow: auto;}#sk-container-id-3 input.sk-toggleable__control:checked~label.sk-toggleable__label-arrow:before {content: \"▾\";}#sk-container-id-3 div.sk-estimator input.sk-toggleable__control:checked~label.sk-toggleable__label {background-color: #d4ebff;}#sk-container-id-3 div.sk-label input.sk-toggleable__control:checked~label.sk-toggleable__label {background-color: #d4ebff;}#sk-container-id-3 input.sk-hidden--visually {border: 0;clip: rect(1px 1px 1px 1px);clip: rect(1px, 1px, 1px, 1px);height: 1px;margin: -1px;overflow: hidden;padding: 0;position: absolute;width: 1px;}#sk-container-id-3 div.sk-estimator {font-family: monospace;background-color: #f0f8ff;border: 1px dotted black;border-radius: 0.25em;box-sizing: border-box;margin-bottom: 0.5em;}#sk-container-id-3 div.sk-estimator:hover {background-color: #d4ebff;}#sk-container-id-3 div.sk-parallel-item::after {content: \"\";width: 100%;border-bottom: 1px solid gray;flex-grow: 1;}#sk-container-id-3 div.sk-label:hover label.sk-toggleable__label {background-color: #d4ebff;}#sk-container-id-3 div.sk-serial::before {content: \"\";position: absolute;border-left: 1px solid gray;box-sizing: border-box;top: 0;bottom: 0;left: 50%;z-index: 0;}#sk-container-id-3 div.sk-serial {display: flex;flex-direction: column;align-items: center;background-color: white;padding-right: 0.2em;padding-left: 0.2em;position: relative;}#sk-container-id-3 div.sk-item {position: relative;z-index: 1;}#sk-container-id-3 div.sk-parallel {display: flex;align-items: stretch;justify-content: center;background-color: white;position: relative;}#sk-container-id-3 div.sk-item::before, #sk-container-id-3 div.sk-parallel-item::before {content: \"\";position: absolute;border-left: 1px solid gray;box-sizing: border-box;top: 0;bottom: 0;left: 50%;z-index: -1;}#sk-container-id-3 div.sk-parallel-item {display: flex;flex-direction: column;z-index: 1;position: relative;background-color: white;}#sk-container-id-3 div.sk-parallel-item:first-child::after {align-self: flex-end;width: 50%;}#sk-container-id-3 div.sk-parallel-item:last-child::after {align-self: flex-start;width: 50%;}#sk-container-id-3 div.sk-parallel-item:only-child::after {width: 0;}#sk-container-id-3 div.sk-dashed-wrapped {border: 1px dashed gray;margin: 0 0.4em 0.5em 0.4em;box-sizing: border-box;padding-bottom: 0.4em;background-color: white;}#sk-container-id-3 div.sk-label label {font-family: monospace;font-weight: bold;display: inline-block;line-height: 1.2em;}#sk-container-id-3 div.sk-label-container {text-align: center;}#sk-container-id-3 div.sk-container {/* jupyter's `normalize.less` sets `[hidden] { display: none; }` but bootstrap.min.css set `[hidden] { display: none !important; }` so we also need the `!important` here to be able to override the default hidden behavior on the sphinx rendered scikit-learn.org. See: https://github.com/scikit-learn/scikit-learn/issues/21755 */display: inline-block !important;position: relative;}#sk-container-id-3 div.sk-text-repr-fallback {display: none;}</style><div id=\"sk-container-id-3\" class=\"sk-top-container\"><div class=\"sk-text-repr-fallback\"><pre>SelectFromModel(estimator=Lasso(alpha=0.0005, random_state=0))</pre><b>In a Jupyter environment, please rerun this cell to show the HTML representation or trust the notebook. <br />On GitHub, the HTML representation is unable to render, please try loading this page with nbviewer.org.</b></div><div class=\"sk-container\" hidden><div class=\"sk-item sk-dashed-wrapped\"><div class=\"sk-label-container\"><div class=\"sk-label sk-toggleable\"><input class=\"sk-toggleable__control sk-hidden--visually\" id=\"sk-estimator-id-17\" type=\"checkbox\" ><label for=\"sk-estimator-id-17\" class=\"sk-toggleable__label sk-toggleable__label-arrow\">SelectFromModel</label><div class=\"sk-toggleable__content\"><pre>SelectFromModel(estimator=Lasso(alpha=0.0005, random_state=0))</pre></div></div></div><div class=\"sk-parallel\"><div class=\"sk-parallel-item\"><div class=\"sk-item\"><div class=\"sk-label-container\"><div class=\"sk-label sk-toggleable\"><input class=\"sk-toggleable__control sk-hidden--visually\" id=\"sk-estimator-id-18\" type=\"checkbox\" ><label for=\"sk-estimator-id-18\" class=\"sk-toggleable__label sk-toggleable__label-arrow\">estimator: Lasso</label><div class=\"sk-toggleable__content\"><pre>Lasso(alpha=0.0005, random_state=0)</pre></div></div></div><div class=\"sk-serial\"><div class=\"sk-item\"><div class=\"sk-estimator sk-toggleable\"><input class=\"sk-toggleable__control sk-hidden--visually\" id=\"sk-estimator-id-19\" type=\"checkbox\" ><label for=\"sk-estimator-id-19\" class=\"sk-toggleable__label sk-toggleable__label-arrow\">Lasso</label><div class=\"sk-toggleable__content\"><pre>Lasso(alpha=0.0005, random_state=0)</pre></div></div></div></div></div></div></div></div></div></div>"
      ],
      "text/plain": [
       "SelectFromModel(estimator=Lasso(alpha=0.0005, random_state=0))"
      ]
     },
     "execution_count": 24,
     "metadata": {},
     "output_type": "execute_result"
    }
   ],
   "source": [
    "selection = SelectFromModel(Lasso(alpha=0.0005, random_state=0))\n",
    "\n",
    "# train Lasso model and select features\n",
    "selection.fit(X_train, y_train)"
   ]
  },
  {
   "cell_type": "code",
   "execution_count": 25,
   "metadata": {},
   "outputs": [
    {
     "name": "stdout",
     "output_type": "stream",
     "text": [
      "total features: 44\n",
      "selected features: 27\n",
      "features with coefficients shrank to zero: 17\n"
     ]
    }
   ],
   "source": [
    "# Check how many features were selected using Lasso\n",
    "selected_feats = X_train.columns[(selection.get_support())]\n",
    "\n",
    "print(f\"total features: {(X_train.shape[1])}\")\n",
    "print(f\"selected features: {len(selected_feats)}\")\n",
    "print(f\"features with coefficients shrank to zero: {np.sum(selection.estimator_.coef_ == 0)}\")"
   ]
  },
  {
   "cell_type": "code",
   "execution_count": 26,
   "metadata": {},
   "outputs": [
    {
     "data": {
      "text/plain": [
       "Index(['age', 'education', 'campaign', 'pdays', 'previous', 'cons.price.idx',\n",
       "       'cons.conf.idx', 'nr.employed', 'job_blue-collar', 'job_admin.',\n",
       "       'job_services', 'job_student', 'job_retired', 'marital_single',\n",
       "       'default_unknown', 'default_no', 'contact_telephone', 'month_may',\n",
       "       'month_aug', 'month_jul', 'month_nov', 'month_mar', 'month_sep',\n",
       "       'month_jun', 'day_of_week_mon', 'day_of_week_fri', 'poutcome_failure'],\n",
       "      dtype='object')"
      ]
     },
     "execution_count": 26,
     "metadata": {},
     "output_type": "execute_result"
    }
   ],
   "source": [
    "# Check which features were selected\n",
    "selected_feats"
   ]
  },
  {
   "cell_type": "code",
   "execution_count": 27,
   "metadata": {},
   "outputs": [
    {
     "data": {
      "text/html": [
       "<div>\n",
       "<style scoped>\n",
       "    .dataframe tbody tr th:only-of-type {\n",
       "        vertical-align: middle;\n",
       "    }\n",
       "\n",
       "    .dataframe tbody tr th {\n",
       "        vertical-align: top;\n",
       "    }\n",
       "\n",
       "    .dataframe thead th {\n",
       "        text-align: right;\n",
       "    }\n",
       "</style>\n",
       "<table border=\"1\" class=\"dataframe\">\n",
       "  <thead>\n",
       "    <tr style=\"text-align: right;\">\n",
       "      <th></th>\n",
       "      <th>age</th>\n",
       "      <th>education</th>\n",
       "      <th>campaign</th>\n",
       "      <th>pdays</th>\n",
       "      <th>previous</th>\n",
       "      <th>cons.price.idx</th>\n",
       "      <th>cons.conf.idx</th>\n",
       "      <th>nr.employed</th>\n",
       "      <th>job_blue-collar</th>\n",
       "      <th>job_admin.</th>\n",
       "      <th>...</th>\n",
       "      <th>month_may</th>\n",
       "      <th>month_aug</th>\n",
       "      <th>month_jul</th>\n",
       "      <th>month_nov</th>\n",
       "      <th>month_mar</th>\n",
       "      <th>month_sep</th>\n",
       "      <th>month_jun</th>\n",
       "      <th>day_of_week_mon</th>\n",
       "      <th>day_of_week_fri</th>\n",
       "      <th>poutcome_failure</th>\n",
       "    </tr>\n",
       "  </thead>\n",
       "  <tbody>\n",
       "    <tr>\n",
       "      <th>7612</th>\n",
       "      <td>37</td>\n",
       "      <td>4.0</td>\n",
       "      <td>2</td>\n",
       "      <td>6.0</td>\n",
       "      <td>-4.60517</td>\n",
       "      <td>93.994</td>\n",
       "      <td>-36.4</td>\n",
       "      <td>5191.0</td>\n",
       "      <td>0</td>\n",
       "      <td>1</td>\n",
       "      <td>...</td>\n",
       "      <td>1</td>\n",
       "      <td>0</td>\n",
       "      <td>0</td>\n",
       "      <td>0</td>\n",
       "      <td>0</td>\n",
       "      <td>0</td>\n",
       "      <td>0</td>\n",
       "      <td>0</td>\n",
       "      <td>1</td>\n",
       "      <td>0</td>\n",
       "    </tr>\n",
       "    <tr>\n",
       "      <th>18850</th>\n",
       "      <td>48</td>\n",
       "      <td>3.0</td>\n",
       "      <td>1</td>\n",
       "      <td>6.0</td>\n",
       "      <td>-4.60517</td>\n",
       "      <td>93.444</td>\n",
       "      <td>-36.1</td>\n",
       "      <td>5228.1</td>\n",
       "      <td>1</td>\n",
       "      <td>0</td>\n",
       "      <td>...</td>\n",
       "      <td>0</td>\n",
       "      <td>1</td>\n",
       "      <td>0</td>\n",
       "      <td>0</td>\n",
       "      <td>0</td>\n",
       "      <td>0</td>\n",
       "      <td>0</td>\n",
       "      <td>1</td>\n",
       "      <td>0</td>\n",
       "      <td>0</td>\n",
       "    </tr>\n",
       "    <tr>\n",
       "      <th>29994</th>\n",
       "      <td>65</td>\n",
       "      <td>1.0</td>\n",
       "      <td>1</td>\n",
       "      <td>6.0</td>\n",
       "      <td>-4.60517</td>\n",
       "      <td>93.075</td>\n",
       "      <td>-47.1</td>\n",
       "      <td>5099.1</td>\n",
       "      <td>0</td>\n",
       "      <td>0</td>\n",
       "      <td>...</td>\n",
       "      <td>0</td>\n",
       "      <td>0</td>\n",
       "      <td>0</td>\n",
       "      <td>0</td>\n",
       "      <td>0</td>\n",
       "      <td>0</td>\n",
       "      <td>0</td>\n",
       "      <td>0</td>\n",
       "      <td>0</td>\n",
       "      <td>0</td>\n",
       "    </tr>\n",
       "    <tr>\n",
       "      <th>11194</th>\n",
       "      <td>45</td>\n",
       "      <td>1.0</td>\n",
       "      <td>1</td>\n",
       "      <td>6.0</td>\n",
       "      <td>-4.60517</td>\n",
       "      <td>94.465</td>\n",
       "      <td>-41.8</td>\n",
       "      <td>5228.1</td>\n",
       "      <td>1</td>\n",
       "      <td>0</td>\n",
       "      <td>...</td>\n",
       "      <td>0</td>\n",
       "      <td>0</td>\n",
       "      <td>0</td>\n",
       "      <td>0</td>\n",
       "      <td>0</td>\n",
       "      <td>0</td>\n",
       "      <td>1</td>\n",
       "      <td>0</td>\n",
       "      <td>0</td>\n",
       "      <td>0</td>\n",
       "    </tr>\n",
       "    <tr>\n",
       "      <th>7983</th>\n",
       "      <td>33</td>\n",
       "      <td>6.0</td>\n",
       "      <td>2</td>\n",
       "      <td>6.0</td>\n",
       "      <td>-4.60517</td>\n",
       "      <td>94.465</td>\n",
       "      <td>-41.8</td>\n",
       "      <td>5228.1</td>\n",
       "      <td>0</td>\n",
       "      <td>0</td>\n",
       "      <td>...</td>\n",
       "      <td>0</td>\n",
       "      <td>0</td>\n",
       "      <td>0</td>\n",
       "      <td>0</td>\n",
       "      <td>0</td>\n",
       "      <td>0</td>\n",
       "      <td>1</td>\n",
       "      <td>1</td>\n",
       "      <td>0</td>\n",
       "      <td>0</td>\n",
       "    </tr>\n",
       "  </tbody>\n",
       "</table>\n",
       "<p>5 rows × 27 columns</p>\n",
       "</div>"
      ],
      "text/plain": [
       "       age  education  campaign  pdays  previous  cons.price.idx  \\\n",
       "7612    37        4.0         2    6.0  -4.60517          93.994   \n",
       "18850   48        3.0         1    6.0  -4.60517          93.444   \n",
       "29994   65        1.0         1    6.0  -4.60517          93.075   \n",
       "11194   45        1.0         1    6.0  -4.60517          94.465   \n",
       "7983    33        6.0         2    6.0  -4.60517          94.465   \n",
       "\n",
       "       cons.conf.idx  nr.employed  job_blue-collar  job_admin.  ...  \\\n",
       "7612           -36.4       5191.0                0           1  ...   \n",
       "18850          -36.1       5228.1                1           0  ...   \n",
       "29994          -47.1       5099.1                0           0  ...   \n",
       "11194          -41.8       5228.1                1           0  ...   \n",
       "7983           -41.8       5228.1                0           0  ...   \n",
       "\n",
       "       month_may  month_aug  month_jul  month_nov  month_mar  month_sep  \\\n",
       "7612           1          0          0          0          0          0   \n",
       "18850          0          1          0          0          0          0   \n",
       "29994          0          0          0          0          0          0   \n",
       "11194          0          0          0          0          0          0   \n",
       "7983           0          0          0          0          0          0   \n",
       "\n",
       "       month_jun  day_of_week_mon  day_of_week_fri  poutcome_failure  \n",
       "7612           0                0                1                 0  \n",
       "18850          0                1                0                 0  \n",
       "29994          0                0                0                 0  \n",
       "11194          1                0                0                 0  \n",
       "7983           1                1                0                 0  \n",
       "\n",
       "[5 rows x 27 columns]"
      ]
     },
     "execution_count": 27,
     "metadata": {},
     "output_type": "execute_result"
    }
   ],
   "source": [
    "# Visualize selected features\n",
    "X_train.loc[:, (selection.get_support())].sample(5)"
   ]
  },
  {
   "cell_type": "code",
   "execution_count": 28,
   "metadata": {},
   "outputs": [],
   "source": [
    "# Select chosen features\n",
    "X_train = X_train.loc[:, (selection.get_support())]\n",
    "X_test = X_test.loc[:, (selection.get_support())]"
   ]
  },
  {
   "cell_type": "code",
   "execution_count": 29,
   "metadata": {},
   "outputs": [
    {
     "name": "stdout",
     "output_type": "stream",
     "text": [
      "(4640, 28)\n"
     ]
    }
   ],
   "source": [
    "# This step is only to save preprocessed dataset of customers that subscribed the product for further analysis\n",
    "df_train = pd.concat((X_train, y_train), axis=1)\n",
    "df_test = pd.concat((X_test, y_test), axis=1)\n",
    "data_preprocessed = pd.concat((df_train, df_test), axis=0)\n",
    "df_sub = data_preprocessed[data_preprocessed[\"y\"]==1]\n",
    "df_sub.to_csv(\"df_subscribed.csv\")\n",
    "print(df_sub.shape)"
   ]
  },
  {
   "cell_type": "code",
   "execution_count": 30,
   "metadata": {},
   "outputs": [],
   "source": [
    "# Scale all features to be able to apply different kind of models, also those based on distance like KNN\n",
    "scaler = StandardScaler()\n",
    "X_train = scaler.fit_transform(X_train)\n",
    "X_test = scaler.transform(X_test)"
   ]
  },
  {
   "cell_type": "code",
   "execution_count": 31,
   "metadata": {},
   "outputs": [
    {
     "name": "stdout",
     "output_type": "stream",
     "text": [
      "Shape of X_train: (37069, 27)\n",
      "Shape of X_test: (4119, 27)\n"
     ]
    }
   ],
   "source": [
    "# Check size of final data\n",
    "print(f\"Shape of X_train: {X_train.shape}\")\n",
    "print(f\"Shape of X_test: {X_test.shape}\")"
   ]
  },
  {
   "cell_type": "markdown",
   "metadata": {},
   "source": [
    "#### Summary\n",
    "After using Lasso model for features selection, the following features were chosen as most significant for modeling: 'age', 'education', 'campaign', 'pdays', 'previous', 'cons.price.idx','cons.conf.idx', 'nr.employed', 'job_blue-collar', 'job_admin.','job_services', 'job_student', 'job_retired', 'marital_single', 'default_unknown', 'default_no', 'contact_telephone', 'month_may', 'month_aug', 'month_jul', 'month_nov', 'month_mar', 'month_sep', 'month_jun', 'day_of_week_mon', 'day_of_week_fri', 'poutcome_failure'"
   ]
  },
  {
   "cell_type": "markdown",
   "metadata": {},
   "source": [
    "### 3. Dataset balancing\n",
    "I will use SMOTE algorithm to balance dataset. This is a technique that synthesize new examples from the minority class. SMOTE works by selecting examples that are close in the feature space, drawing a line between the examples in the feature space and drawing a new sample at a point along that line."
   ]
  },
  {
   "cell_type": "code",
   "execution_count": 32,
   "metadata": {},
   "outputs": [],
   "source": [
    "# Data oversampling\n",
    "from imblearn.over_sampling import SMOTE\n",
    "oversample = SMOTE(random_state=2022)\n",
    "X_train_oversample, y_train_oversample = oversample.fit_resample(X_train, y_train)"
   ]
  },
  {
   "cell_type": "code",
   "execution_count": 33,
   "metadata": {},
   "outputs": [
    {
     "data": {
      "text/plain": [
       "0    32913\n",
       "1     4156\n",
       "Name: y, dtype: int64"
      ]
     },
     "execution_count": 33,
     "metadata": {},
     "output_type": "execute_result"
    }
   ],
   "source": [
    "# Check the number of customers that subscribed for a product and no before oversampling\n",
    "y_train.value_counts()"
   ]
  },
  {
   "cell_type": "code",
   "execution_count": 34,
   "metadata": {},
   "outputs": [
    {
     "data": {
      "text/plain": [
       "0    32913\n",
       "1    32913\n",
       "Name: y, dtype: int64"
      ]
     },
     "execution_count": 34,
     "metadata": {},
     "output_type": "execute_result"
    }
   ],
   "source": [
    "# Check the number of customers that subscribed for a product and no after oversampling\n",
    "y_train_oversample.value_counts()"
   ]
  },
  {
   "cell_type": "code",
   "execution_count": 35,
   "metadata": {},
   "outputs": [],
   "source": [
    "# Save training and testing data\n",
    "pd.DataFrame(X_train_oversample).to_csv(\"X_train_oversample.csv\", header=None, index=True)\n",
    "pd.DataFrame(X_train).to_csv(\"X_train.csv\", header=None, index=True)\n",
    "pd.DataFrame(X_test).to_csv(\"X_test.csv\", header=None, index=True)\n",
    "pd.Series(y_train_oversample).to_csv(\"y_trainoversample.csv\", header=None, index=True)\n",
    "pd.Series(y_train).to_csv(\"y_train.csv\", header=None, index=True)\n",
    "pd.Series(y_test).to_csv(\"y_test.csv\", header=None, index=True)\n"
   ]
  },
  {
   "cell_type": "code",
   "execution_count": null,
   "metadata": {},
   "outputs": [],
   "source": []
  }
 ],
 "metadata": {
  "kernelspec": {
   "display_name": "Python 3.8.5 ('base')",
   "language": "python",
   "name": "python3"
  },
  "language_info": {
   "codemirror_mode": {
    "name": "ipython",
    "version": 3
   },
   "file_extension": ".py",
   "mimetype": "text/x-python",
   "name": "python",
   "nbconvert_exporter": "python",
   "pygments_lexer": "ipython3",
   "version": "3.8.5"
  },
  "orig_nbformat": 4,
  "vscode": {
   "interpreter": {
    "hash": "f2b16a735eed62370cf525db31c923f37fb90b1355c3acbedd0b706df0b3965a"
   }
  }
 },
 "nbformat": 4,
 "nbformat_minor": 2
}
