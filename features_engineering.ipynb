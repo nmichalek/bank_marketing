{
 "cells": [
  {
   "cell_type": "code",
   "execution_count": 1,
   "metadata": {},
   "outputs": [
    {
     "name": "stderr",
     "output_type": "stream",
     "text": [
      "c:\\Users\\a759429\\Anaconda3\\lib\\site-packages\\pandas\\core\\computation\\expressions.py:20: UserWarning: Pandas requires version '2.7.3' or newer of 'numexpr' (version '2.7.1' currently installed).\n",
      "  from pandas.core.computation.check import NUMEXPR_INSTALLED\n"
     ]
    }
   ],
   "source": [
    "# data manipulation and plotting\n",
    "import pandas as pd\n",
    "import numpy as np\n",
    "import matplotlib.pyplot as plt\n",
    "\n",
    "from sklearn.model_selection import train_test_split\n",
    "from sklearn.pipeline import Pipeline\n",
    "from sklearn.preprocessing import StandardScaler\n",
    "\n",
    "# from feature-engine\n",
    "from feature_engine.imputation import MeanMedianImputer\n",
    "from feature_engine.encoding import OneHotEncoder\n",
    "from feature_engine.transformation import LogTransformer\n",
    "\n",
    "from feature_engine.selection import DropFeatures\n",
    "from feature_engine.wrappers import SklearnTransformerWrapper\n",
    "\n",
    "import preprocessing_utils as pp\n",
    "\n",
    "import warnings\n",
    "warnings.filterwarnings(\"ignore\")"
   ]
  },
  {
   "cell_type": "code",
   "execution_count": 2,
   "metadata": {},
   "outputs": [],
   "source": [
    "# Import data\n",
    "df = pd.read_csv(\"bank-additional-full.csv\", sep=\";\")"
   ]
  },
  {
   "cell_type": "code",
   "execution_count": 3,
   "metadata": {},
   "outputs": [],
   "source": [
    "# Change target variable to binary\n",
    "df.loc[:, \"y\"] = df[\"y\"].map(lambda x: 1 if x==\"yes\" else 0)"
   ]
  },
  {
   "cell_type": "code",
   "execution_count": 4,
   "metadata": {},
   "outputs": [],
   "source": [
    "# Prepare train and test set\n",
    "\n",
    "X_train, X_test, y_train, y_test = train_test_split(\n",
    "    df,\n",
    "    df[\"y\"], \n",
    "    test_size=0.1,\n",
    "    random_state=2022\n",
    ")"
   ]
  },
  {
   "cell_type": "code",
   "execution_count": 5,
   "metadata": {},
   "outputs": [],
   "source": [
    "# Define the mapping for education feature\n",
    "education_mappings = {\"university.degree\": 6, \n",
    "                      \"professional.course\": 5,\n",
    "                      \"high.school\": 4,\n",
    "                      \"basic.9y\": 3,\n",
    "                      \"basic.6y\": 2,\n",
    "                      \"basic.4y\": 1,\n",
    "                      \"illiterate\": 0,\n",
    "                      \"unknown\": np.NaN}"
   ]
  },
  {
   "cell_type": "code",
   "execution_count": 6,
   "metadata": {},
   "outputs": [],
   "source": [
    "# Define categorical and numerical variables\n",
    "categorical_variables = [col for col in df.columns if df[col].dtype==\"O\"]\n",
    "numerical_variables = list(set(df.columns) - set(categorical_variables) - set(\"y\"))\n",
    "features_to_drop = [\"duration\", \"emp.var.rate\", \"euribor3m\"]"
   ]
  },
  {
   "cell_type": "code",
   "execution_count": 7,
   "metadata": {},
   "outputs": [
    {
     "data": {
      "text/plain": [
       "['job',\n",
       " 'marital',\n",
       " 'education',\n",
       " 'default',\n",
       " 'housing',\n",
       " 'loan',\n",
       " 'contact',\n",
       " 'month',\n",
       " 'day_of_week',\n",
       " 'poutcome']"
      ]
     },
     "execution_count": 7,
     "metadata": {},
     "output_type": "execute_result"
    }
   ],
   "source": [
    "categorical_variables"
   ]
  },
  {
   "cell_type": "code",
   "execution_count": 8,
   "metadata": {},
   "outputs": [
    {
     "data": {
      "text/plain": [
       "['age',\n",
       " 'nr.employed',\n",
       " 'previous',\n",
       " 'cons.conf.idx',\n",
       " 'cons.price.idx',\n",
       " 'euribor3m',\n",
       " 'duration',\n",
       " 'campaign',\n",
       " 'emp.var.rate',\n",
       " 'pdays']"
      ]
     },
     "execution_count": 8,
     "metadata": {},
     "output_type": "execute_result"
    }
   ],
   "source": [
    "numerical_variables"
   ]
  },
  {
   "cell_type": "code",
   "execution_count": 25,
   "metadata": {},
   "outputs": [],
   "source": [
    "# Define preprocessing pipeline\n",
    "\n",
    "marketing_pipe = Pipeline([\n",
    "\n",
    "    # Change categorical variable \"education\" to ordinal\n",
    "    ('mapper_education', pp.Mapper(\n",
    "        variables=[\"education\"], mappings=education_mappings)),\n",
    "\n",
    "    # Replace 999 with np.NaN to fill missing values\n",
    "    (\"missing_adding\", pp.Missing_Adding(\n",
    "        variables = [\"pdays\"]\n",
    "    )),\n",
    "\n",
    "    # Impute numerical variables with the median\n",
    "    ('median_imputation', MeanMedianImputer(\n",
    "        imputation_method='median', variables=numerical_variables\n",
    "    )),\n",
    "    \n",
    "    # Drop features as per data analysis\n",
    "    ('drop_features', DropFeatures(features_to_drop=features_to_drop)),\n",
    "\n",
    "    # Add to values 0.01 to enable logarithm calculation\n",
    "    ('non_zero', pp.NonZero(variables=[\"previous\"])),\n",
    "\n",
    "    # Replace feature \"previous\" with it's logarithm\n",
    "    ('log', LogTransformer(variables=[\"previous\"])),  \n",
    "\n",
    "    # one hot encode categorical features\n",
    "    ('one_hot_encoder', OneHotEncoder(\n",
    "        drop_last=True)),\n",
    "        \n",
    "    # scale\n",
    "    ('scaler', StandardScaler()),\n",
    "])"
   ]
  },
  {
   "cell_type": "code",
   "execution_count": 26,
   "metadata": {},
   "outputs": [
    {
     "data": {
      "text/html": [
       "<style>#sk-container-id-3 {color: black;background-color: white;}#sk-container-id-3 pre{padding: 0;}#sk-container-id-3 div.sk-toggleable {background-color: white;}#sk-container-id-3 label.sk-toggleable__label {cursor: pointer;display: block;width: 100%;margin-bottom: 0;padding: 0.3em;box-sizing: border-box;text-align: center;}#sk-container-id-3 label.sk-toggleable__label-arrow:before {content: \"▸\";float: left;margin-right: 0.25em;color: #696969;}#sk-container-id-3 label.sk-toggleable__label-arrow:hover:before {color: black;}#sk-container-id-3 div.sk-estimator:hover label.sk-toggleable__label-arrow:before {color: black;}#sk-container-id-3 div.sk-toggleable__content {max-height: 0;max-width: 0;overflow: hidden;text-align: left;background-color: #f0f8ff;}#sk-container-id-3 div.sk-toggleable__content pre {margin: 0.2em;color: black;border-radius: 0.25em;background-color: #f0f8ff;}#sk-container-id-3 input.sk-toggleable__control:checked~div.sk-toggleable__content {max-height: 200px;max-width: 100%;overflow: auto;}#sk-container-id-3 input.sk-toggleable__control:checked~label.sk-toggleable__label-arrow:before {content: \"▾\";}#sk-container-id-3 div.sk-estimator input.sk-toggleable__control:checked~label.sk-toggleable__label {background-color: #d4ebff;}#sk-container-id-3 div.sk-label input.sk-toggleable__control:checked~label.sk-toggleable__label {background-color: #d4ebff;}#sk-container-id-3 input.sk-hidden--visually {border: 0;clip: rect(1px 1px 1px 1px);clip: rect(1px, 1px, 1px, 1px);height: 1px;margin: -1px;overflow: hidden;padding: 0;position: absolute;width: 1px;}#sk-container-id-3 div.sk-estimator {font-family: monospace;background-color: #f0f8ff;border: 1px dotted black;border-radius: 0.25em;box-sizing: border-box;margin-bottom: 0.5em;}#sk-container-id-3 div.sk-estimator:hover {background-color: #d4ebff;}#sk-container-id-3 div.sk-parallel-item::after {content: \"\";width: 100%;border-bottom: 1px solid gray;flex-grow: 1;}#sk-container-id-3 div.sk-label:hover label.sk-toggleable__label {background-color: #d4ebff;}#sk-container-id-3 div.sk-serial::before {content: \"\";position: absolute;border-left: 1px solid gray;box-sizing: border-box;top: 0;bottom: 0;left: 50%;z-index: 0;}#sk-container-id-3 div.sk-serial {display: flex;flex-direction: column;align-items: center;background-color: white;padding-right: 0.2em;padding-left: 0.2em;position: relative;}#sk-container-id-3 div.sk-item {position: relative;z-index: 1;}#sk-container-id-3 div.sk-parallel {display: flex;align-items: stretch;justify-content: center;background-color: white;position: relative;}#sk-container-id-3 div.sk-item::before, #sk-container-id-3 div.sk-parallel-item::before {content: \"\";position: absolute;border-left: 1px solid gray;box-sizing: border-box;top: 0;bottom: 0;left: 50%;z-index: -1;}#sk-container-id-3 div.sk-parallel-item {display: flex;flex-direction: column;z-index: 1;position: relative;background-color: white;}#sk-container-id-3 div.sk-parallel-item:first-child::after {align-self: flex-end;width: 50%;}#sk-container-id-3 div.sk-parallel-item:last-child::after {align-self: flex-start;width: 50%;}#sk-container-id-3 div.sk-parallel-item:only-child::after {width: 0;}#sk-container-id-3 div.sk-dashed-wrapped {border: 1px dashed gray;margin: 0 0.4em 0.5em 0.4em;box-sizing: border-box;padding-bottom: 0.4em;background-color: white;}#sk-container-id-3 div.sk-label label {font-family: monospace;font-weight: bold;display: inline-block;line-height: 1.2em;}#sk-container-id-3 div.sk-label-container {text-align: center;}#sk-container-id-3 div.sk-container {/* jupyter's `normalize.less` sets `[hidden] { display: none; }` but bootstrap.min.css set `[hidden] { display: none !important; }` so we also need the `!important` here to be able to override the default hidden behavior on the sphinx rendered scikit-learn.org. See: https://github.com/scikit-learn/scikit-learn/issues/21755 */display: inline-block !important;position: relative;}#sk-container-id-3 div.sk-text-repr-fallback {display: none;}</style><div id=\"sk-container-id-3\" class=\"sk-top-container\"><div class=\"sk-text-repr-fallback\"><pre>Pipeline(steps=[(&#x27;mapper_education&#x27;,\n",
       "                 Mapper(mappings={&#x27;basic.4y&#x27;: 1, &#x27;basic.6y&#x27;: 2, &#x27;basic.9y&#x27;: 3,\n",
       "                                  &#x27;high.school&#x27;: 4, &#x27;illiterate&#x27;: 0,\n",
       "                                  &#x27;professional.course&#x27;: 5,\n",
       "                                  &#x27;university.degree&#x27;: 6, &#x27;unknown&#x27;: nan},\n",
       "                        variables=[&#x27;education&#x27;])),\n",
       "                (&#x27;missing_adding&#x27;, Missing_Adding(variables=[&#x27;pdays&#x27;])),\n",
       "                (&#x27;median_imputation&#x27;,\n",
       "                 MeanMedianImputer(variables=[&#x27;age&#x27;, &#x27;nr.employed&#x27;, &#x27;previous&#x27;,\n",
       "                                              &#x27;cons.conf.idx&#x27;, &#x27;cons.price.idx&#x27;,\n",
       "                                              &#x27;euribor3m&#x27;, &#x27;duration&#x27;,\n",
       "                                              &#x27;campaign&#x27;, &#x27;emp.var.rate&#x27;,\n",
       "                                              &#x27;pdays&#x27;])),\n",
       "                (&#x27;drop_features&#x27;,\n",
       "                 DropFeatures(features_to_drop=[&#x27;duration&#x27;, &#x27;emp.var.rate&#x27;,\n",
       "                                                &#x27;euribor3m&#x27;])),\n",
       "                (&#x27;non_zero&#x27;, NonZero(variables=[&#x27;previous&#x27;])),\n",
       "                (&#x27;log&#x27;, LogTransformer(variables=[&#x27;previous&#x27;])),\n",
       "                (&#x27;one_hot_encoder&#x27;, OneHotEncoder(drop_last=True)),\n",
       "                (&#x27;scaler&#x27;, StandardScaler())])</pre><b>In a Jupyter environment, please rerun this cell to show the HTML representation or trust the notebook. <br />On GitHub, the HTML representation is unable to render, please try loading this page with nbviewer.org.</b></div><div class=\"sk-container\" hidden><div class=\"sk-item sk-dashed-wrapped\"><div class=\"sk-label-container\"><div class=\"sk-label sk-toggleable\"><input class=\"sk-toggleable__control sk-hidden--visually\" id=\"sk-estimator-id-16\" type=\"checkbox\" ><label for=\"sk-estimator-id-16\" class=\"sk-toggleable__label sk-toggleable__label-arrow\">Pipeline</label><div class=\"sk-toggleable__content\"><pre>Pipeline(steps=[(&#x27;mapper_education&#x27;,\n",
       "                 Mapper(mappings={&#x27;basic.4y&#x27;: 1, &#x27;basic.6y&#x27;: 2, &#x27;basic.9y&#x27;: 3,\n",
       "                                  &#x27;high.school&#x27;: 4, &#x27;illiterate&#x27;: 0,\n",
       "                                  &#x27;professional.course&#x27;: 5,\n",
       "                                  &#x27;university.degree&#x27;: 6, &#x27;unknown&#x27;: nan},\n",
       "                        variables=[&#x27;education&#x27;])),\n",
       "                (&#x27;missing_adding&#x27;, Missing_Adding(variables=[&#x27;pdays&#x27;])),\n",
       "                (&#x27;median_imputation&#x27;,\n",
       "                 MeanMedianImputer(variables=[&#x27;age&#x27;, &#x27;nr.employed&#x27;, &#x27;previous&#x27;,\n",
       "                                              &#x27;cons.conf.idx&#x27;, &#x27;cons.price.idx&#x27;,\n",
       "                                              &#x27;euribor3m&#x27;, &#x27;duration&#x27;,\n",
       "                                              &#x27;campaign&#x27;, &#x27;emp.var.rate&#x27;,\n",
       "                                              &#x27;pdays&#x27;])),\n",
       "                (&#x27;drop_features&#x27;,\n",
       "                 DropFeatures(features_to_drop=[&#x27;duration&#x27;, &#x27;emp.var.rate&#x27;,\n",
       "                                                &#x27;euribor3m&#x27;])),\n",
       "                (&#x27;non_zero&#x27;, NonZero(variables=[&#x27;previous&#x27;])),\n",
       "                (&#x27;log&#x27;, LogTransformer(variables=[&#x27;previous&#x27;])),\n",
       "                (&#x27;one_hot_encoder&#x27;, OneHotEncoder(drop_last=True)),\n",
       "                (&#x27;scaler&#x27;, StandardScaler())])</pre></div></div></div><div class=\"sk-serial\"><div class=\"sk-item\"><div class=\"sk-estimator sk-toggleable\"><input class=\"sk-toggleable__control sk-hidden--visually\" id=\"sk-estimator-id-17\" type=\"checkbox\" ><label for=\"sk-estimator-id-17\" class=\"sk-toggleable__label sk-toggleable__label-arrow\">Mapper</label><div class=\"sk-toggleable__content\"><pre>Mapper(mappings={&#x27;basic.4y&#x27;: 1, &#x27;basic.6y&#x27;: 2, &#x27;basic.9y&#x27;: 3, &#x27;high.school&#x27;: 4,\n",
       "                 &#x27;illiterate&#x27;: 0, &#x27;professional.course&#x27;: 5,\n",
       "                 &#x27;university.degree&#x27;: 6, &#x27;unknown&#x27;: nan},\n",
       "       variables=[&#x27;education&#x27;])</pre></div></div></div><div class=\"sk-item\"><div class=\"sk-estimator sk-toggleable\"><input class=\"sk-toggleable__control sk-hidden--visually\" id=\"sk-estimator-id-18\" type=\"checkbox\" ><label for=\"sk-estimator-id-18\" class=\"sk-toggleable__label sk-toggleable__label-arrow\">Missing_Adding</label><div class=\"sk-toggleable__content\"><pre>Missing_Adding(variables=[&#x27;pdays&#x27;])</pre></div></div></div><div class=\"sk-item\"><div class=\"sk-estimator sk-toggleable\"><input class=\"sk-toggleable__control sk-hidden--visually\" id=\"sk-estimator-id-19\" type=\"checkbox\" ><label for=\"sk-estimator-id-19\" class=\"sk-toggleable__label sk-toggleable__label-arrow\">MeanMedianImputer</label><div class=\"sk-toggleable__content\"><pre>MeanMedianImputer(variables=[&#x27;age&#x27;, &#x27;nr.employed&#x27;, &#x27;previous&#x27;, &#x27;cons.conf.idx&#x27;,\n",
       "                             &#x27;cons.price.idx&#x27;, &#x27;euribor3m&#x27;, &#x27;duration&#x27;,\n",
       "                             &#x27;campaign&#x27;, &#x27;emp.var.rate&#x27;, &#x27;pdays&#x27;])</pre></div></div></div><div class=\"sk-item\"><div class=\"sk-estimator sk-toggleable\"><input class=\"sk-toggleable__control sk-hidden--visually\" id=\"sk-estimator-id-20\" type=\"checkbox\" ><label for=\"sk-estimator-id-20\" class=\"sk-toggleable__label sk-toggleable__label-arrow\">DropFeatures</label><div class=\"sk-toggleable__content\"><pre>DropFeatures(features_to_drop=[&#x27;duration&#x27;, &#x27;emp.var.rate&#x27;, &#x27;euribor3m&#x27;])</pre></div></div></div><div class=\"sk-item\"><div class=\"sk-estimator sk-toggleable\"><input class=\"sk-toggleable__control sk-hidden--visually\" id=\"sk-estimator-id-21\" type=\"checkbox\" ><label for=\"sk-estimator-id-21\" class=\"sk-toggleable__label sk-toggleable__label-arrow\">NonZero</label><div class=\"sk-toggleable__content\"><pre>NonZero(variables=[&#x27;previous&#x27;])</pre></div></div></div><div class=\"sk-item\"><div class=\"sk-estimator sk-toggleable\"><input class=\"sk-toggleable__control sk-hidden--visually\" id=\"sk-estimator-id-22\" type=\"checkbox\" ><label for=\"sk-estimator-id-22\" class=\"sk-toggleable__label sk-toggleable__label-arrow\">LogTransformer</label><div class=\"sk-toggleable__content\"><pre>LogTransformer(variables=[&#x27;previous&#x27;])</pre></div></div></div><div class=\"sk-item\"><div class=\"sk-estimator sk-toggleable\"><input class=\"sk-toggleable__control sk-hidden--visually\" id=\"sk-estimator-id-23\" type=\"checkbox\" ><label for=\"sk-estimator-id-23\" class=\"sk-toggleable__label sk-toggleable__label-arrow\">OneHotEncoder</label><div class=\"sk-toggleable__content\"><pre>OneHotEncoder(drop_last=True)</pre></div></div></div><div class=\"sk-item\"><div class=\"sk-estimator sk-toggleable\"><input class=\"sk-toggleable__control sk-hidden--visually\" id=\"sk-estimator-id-24\" type=\"checkbox\" ><label for=\"sk-estimator-id-24\" class=\"sk-toggleable__label sk-toggleable__label-arrow\">StandardScaler</label><div class=\"sk-toggleable__content\"><pre>StandardScaler()</pre></div></div></div></div></div></div></div>"
      ],
      "text/plain": [
       "Pipeline(steps=[('mapper_education',\n",
       "                 Mapper(mappings={'basic.4y': 1, 'basic.6y': 2, 'basic.9y': 3,\n",
       "                                  'high.school': 4, 'illiterate': 0,\n",
       "                                  'professional.course': 5,\n",
       "                                  'university.degree': 6, 'unknown': nan},\n",
       "                        variables=['education'])),\n",
       "                ('missing_adding', Missing_Adding(variables=['pdays'])),\n",
       "                ('median_imputation',\n",
       "                 MeanMedianImputer(variables=['age', 'nr.employed', 'previous',\n",
       "                                              'cons.conf.idx', 'cons.price.idx',\n",
       "                                              'euribor3m', 'duration',\n",
       "                                              'campaign', 'emp.var.rate',\n",
       "                                              'pdays'])),\n",
       "                ('drop_features',\n",
       "                 DropFeatures(features_to_drop=['duration', 'emp.var.rate',\n",
       "                                                'euribor3m'])),\n",
       "                ('non_zero', NonZero(variables=['previous'])),\n",
       "                ('log', LogTransformer(variables=['previous'])),\n",
       "                ('one_hot_encoder', OneHotEncoder(drop_last=True)),\n",
       "                ('scaler', StandardScaler())])"
      ]
     },
     "execution_count": 26,
     "metadata": {},
     "output_type": "execute_result"
    }
   ],
   "source": [
    "# train the pipeline\n",
    "marketing_pipe.fit(X_train, y_train)"
   ]
  },
  {
   "cell_type": "code",
   "execution_count": 28,
   "metadata": {},
   "outputs": [],
   "source": [
    "X_train = marketing_pipe.transform(X_train)\n",
    "X_test = marketing_pipe.transform(X_test)"
   ]
  },
  {
   "cell_type": "code",
   "execution_count": 33,
   "metadata": {},
   "outputs": [
    {
     "data": {
      "text/plain": [
       "(37069, 45)"
      ]
     },
     "execution_count": 33,
     "metadata": {},
     "output_type": "execute_result"
    }
   ],
   "source": [
    "X_train.shape"
   ]
  },
  {
   "cell_type": "code",
   "execution_count": null,
   "metadata": {},
   "outputs": [],
   "source": [
    "# Fetures selection - Lasso"
   ]
  }
 ],
 "metadata": {
  "kernelspec": {
   "display_name": "Python 3.8.5 ('base')",
   "language": "python",
   "name": "python3"
  },
  "language_info": {
   "codemirror_mode": {
    "name": "ipython",
    "version": 3
   },
   "file_extension": ".py",
   "mimetype": "text/x-python",
   "name": "python",
   "nbconvert_exporter": "python",
   "pygments_lexer": "ipython3",
   "version": "3.8.5"
  },
  "orig_nbformat": 4,
  "vscode": {
   "interpreter": {
    "hash": "f2b16a735eed62370cf525db31c923f37fb90b1355c3acbedd0b706df0b3965a"
   }
  }
 },
 "nbformat": 4,
 "nbformat_minor": 2
}
